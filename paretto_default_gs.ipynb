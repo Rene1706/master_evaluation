{
 "cells": [
  {
   "cell_type": "code",
   "execution_count": 1,
   "metadata": {},
   "outputs": [],
   "source": [
    "import pandas as pd\n",
    "import numpy as np\n",
    "import matplotlib.pyplot as plt"
   ]
  },
  {
   "cell_type": "code",
   "execution_count": 5,
   "metadata": {},
   "outputs": [
    {
     "data": {
      "text/html": [
       "<div>\n",
       "<style scoped>\n",
       "    .dataframe tbody tr th:only-of-type {\n",
       "        vertical-align: middle;\n",
       "    }\n",
       "\n",
       "    .dataframe tbody tr th {\n",
       "        vertical-align: top;\n",
       "    }\n",
       "\n",
       "    .dataframe thead th {\n",
       "        text-align: right;\n",
       "    }\n",
       "</style>\n",
       "<table border=\"1\" class=\"dataframe\">\n",
       "  <thead>\n",
       "    <tr style=\"text-align: right;\">\n",
       "      <th></th>\n",
       "      <th>run_id</th>\n",
       "      <th>ssim</th>\n",
       "      <th>psnr</th>\n",
       "      <th>n_gaussians</th>\n",
       "    </tr>\n",
       "  </thead>\n",
       "  <tbody>\n",
       "    <tr>\n",
       "      <th>0</th>\n",
       "      <td>grad_thresholds_131751</td>\n",
       "      <td>0.947555</td>\n",
       "      <td>31.889521</td>\n",
       "      <td>148196</td>\n",
       "    </tr>\n",
       "    <tr>\n",
       "      <th>1</th>\n",
       "      <td>grad_thresholds_131752</td>\n",
       "      <td>0.944130</td>\n",
       "      <td>31.103710</td>\n",
       "      <td>23160</td>\n",
       "    </tr>\n",
       "    <tr>\n",
       "      <th>2</th>\n",
       "      <td>grad_thresholds_131753</td>\n",
       "      <td>0.947821</td>\n",
       "      <td>31.954201</td>\n",
       "      <td>181338</td>\n",
       "    </tr>\n",
       "    <tr>\n",
       "      <th>3</th>\n",
       "      <td>grad_thresholds_131754</td>\n",
       "      <td>0.946655</td>\n",
       "      <td>31.667980</td>\n",
       "      <td>78598</td>\n",
       "    </tr>\n",
       "    <tr>\n",
       "      <th>4</th>\n",
       "      <td>grad_thresholds_131755</td>\n",
       "      <td>0.948385</td>\n",
       "      <td>32.092644</td>\n",
       "      <td>290869</td>\n",
       "    </tr>\n",
       "    <tr>\n",
       "      <th>5</th>\n",
       "      <td>grad_thresholds_131756</td>\n",
       "      <td>0.942279</td>\n",
       "      <td>30.663376</td>\n",
       "      <td>13364</td>\n",
       "    </tr>\n",
       "    <tr>\n",
       "      <th>6</th>\n",
       "      <td>grad_thresholds_131757</td>\n",
       "      <td>0.943736</td>\n",
       "      <td>31.007668</td>\n",
       "      <td>19636</td>\n",
       "    </tr>\n",
       "    <tr>\n",
       "      <th>7</th>\n",
       "      <td>grad_thresholds_30000_0</td>\n",
       "      <td>0.945515</td>\n",
       "      <td>31.073700</td>\n",
       "      <td>212883</td>\n",
       "    </tr>\n",
       "    <tr>\n",
       "      <th>8</th>\n",
       "      <td>grad_thresholds_30000_1</td>\n",
       "      <td>0.942936</td>\n",
       "      <td>30.579727</td>\n",
       "      <td>47667</td>\n",
       "    </tr>\n",
       "    <tr>\n",
       "      <th>9</th>\n",
       "      <td>grad_thresholds_30000_2</td>\n",
       "      <td>0.942037</td>\n",
       "      <td>30.372120</td>\n",
       "      <td>30549</td>\n",
       "    </tr>\n",
       "    <tr>\n",
       "      <th>10</th>\n",
       "      <td>grad_thresholds_30000_3</td>\n",
       "      <td>0.945784</td>\n",
       "      <td>31.126127</td>\n",
       "      <td>263090</td>\n",
       "    </tr>\n",
       "    <tr>\n",
       "      <th>11</th>\n",
       "      <td>grad_thresholds_30000_4</td>\n",
       "      <td>0.947791</td>\n",
       "      <td>31.605795</td>\n",
       "      <td>2308670</td>\n",
       "    </tr>\n",
       "    <tr>\n",
       "      <th>12</th>\n",
       "      <td>grad_thresholds_30000_5</td>\n",
       "      <td>0.944556</td>\n",
       "      <td>30.891699</td>\n",
       "      <td>112200</td>\n",
       "    </tr>\n",
       "    <tr>\n",
       "      <th>13</th>\n",
       "      <td>grad_thresholds_30000_6</td>\n",
       "      <td>0.946306</td>\n",
       "      <td>31.240543</td>\n",
       "      <td>413114</td>\n",
       "    </tr>\n",
       "    <tr>\n",
       "      <th>14</th>\n",
       "      <td>grad_thresholds_30000_7</td>\n",
       "      <td>0.939844</td>\n",
       "      <td>29.892628</td>\n",
       "      <td>15467</td>\n",
       "    </tr>\n",
       "    <tr>\n",
       "      <th>15</th>\n",
       "      <td>grad_thresholds_30000_8</td>\n",
       "      <td>0.941557</td>\n",
       "      <td>30.264706</td>\n",
       "      <td>25411</td>\n",
       "    </tr>\n",
       "  </tbody>\n",
       "</table>\n",
       "</div>"
      ],
      "text/plain": [
       "                     run_id      ssim       psnr  n_gaussians\n",
       "0    grad_thresholds_131751  0.947555  31.889521       148196\n",
       "1    grad_thresholds_131752  0.944130  31.103710        23160\n",
       "2    grad_thresholds_131753  0.947821  31.954201       181338\n",
       "3    grad_thresholds_131754  0.946655  31.667980        78598\n",
       "4    grad_thresholds_131755  0.948385  32.092644       290869\n",
       "5    grad_thresholds_131756  0.942279  30.663376        13364\n",
       "6    grad_thresholds_131757  0.943736  31.007668        19636\n",
       "7   grad_thresholds_30000_0  0.945515  31.073700       212883\n",
       "8   grad_thresholds_30000_1  0.942936  30.579727        47667\n",
       "9   grad_thresholds_30000_2  0.942037  30.372120        30549\n",
       "10  grad_thresholds_30000_3  0.945784  31.126127       263090\n",
       "11  grad_thresholds_30000_4  0.947791  31.605795      2308670\n",
       "12  grad_thresholds_30000_5  0.944556  30.891699       112200\n",
       "13  grad_thresholds_30000_6  0.946306  31.240543       413114\n",
       "14  grad_thresholds_30000_7  0.939844  29.892628        15467\n",
       "15  grad_thresholds_30000_8  0.941557  30.264706        25411"
      ]
     },
     "execution_count": 5,
     "metadata": {},
     "output_type": "execute_result"
    }
   ],
   "source": [
    "#df = pd.read_csv(\"data/metrics_results_without_100000.csv\")\n",
    "df = pd.read_csv(\"data/pareto_default_gs.csv\")\n",
    "df"
   ]
  },
  {
   "cell_type": "code",
   "execution_count": 3,
   "metadata": {},
   "outputs": [
    {
     "data": {
      "image/png": "[encoded data removed]",
      "text/plain": [
       "<Figure size 640x480 with 1 Axes>"
      ]
     },
     "metadata": {},
     "output_type": "display_data"
    }
   ],
   "source": [
    "import pandas as pd\n",
    "from collections import defaultdict\n",
    "from paretoset import paretoset\n",
    "import matplotlib.pyplot as plt\n",
    "\n",
    "# Extract unique run_ids\n",
    "unique_run_ids = df['run_id']\n",
    "\n",
    "# Step 2: Define the mapping of run ID categories\n",
    "run_categories = {\n",
    "    #'gs_default_100000': {'label': 'Default 100k iterations', 'color': 'orange'},\n",
    "    #'gs_default_30000': {'label': 'Default 30k iterations', 'color': 'green'},\n",
    "    'grad_thresholds': {'label': 'Default 100k iterations', 'color': 'blue'},\n",
    "    'grad_thresholds_30000': {'label': 'Default 30k iterations', 'color': 'green'},\n",
    "}\n",
    "\n",
    "# Step 3: Automatically categorize the run IDs based on the keywords in the run ID\n",
    "categorized_runs = defaultdict(list)\n",
    "\n",
    "for run_id in unique_run_ids:\n",
    "    for keyword in run_categories:\n",
    "        if keyword in run_id:\n",
    "            categorized_runs[keyword].append(run_id)\n",
    "\n",
    "# Step 4: Use the paretoset package to compute the Pareto front (maximize PSNR, minimize n_gaussians)\n",
    "mask = paretoset(df[['psnr', 'n_gaussians']], sense=['max', 'min'])\n",
    "\n",
    "# Extract the Pareto front from the results\n",
    "pareto_df = df[mask]\n",
    "\n",
    "# Step 4.1: Sort the Pareto front by n_gaussians\n",
    "pareto_df = pareto_df.sort_values(by='n_gaussians')\n",
    "\n",
    "# Step 5: Plot all points first in a default style (e.g., grey color)\n",
    "#plt.scatter(df['n_gaussians'], df['psnr'], label='All Points', alpha=0.5)#, color='grey')\n",
    "\n",
    "# Step 6: Plot each category of runs with their respective label and color\n",
    "for keyword, run_list in categorized_runs.items():\n",
    "    label = run_categories[keyword]['label']\n",
    "    color = run_categories[keyword]['color']\n",
    "    for run_id in run_list:\n",
    "        highlight_data = df[df['run_id'].str.contains(run_id)]\n",
    "        plt.scatter(highlight_data['n_gaussians'], highlight_data['psnr'], color=color, label=label, zorder=3)\n",
    "\n",
    "# Step 7: Plot the Pareto front and connect the points with a line\n",
    "#plt.scatter(pareto_df['n_gaussians'], pareto_df['psnr'], color='red', label='Pareto Front', zorder=2)\n",
    "plt.plot(pareto_df['n_gaussians'], pareto_df['psnr'], color='red', linestyle='-', label='Pareto Front Line')\n",
    "\n",
    "# Customize the plot\n",
    "# Set limits for x and y axes\n",
    "plt.xlim(3e3, 3e6)  # Example limits for Number of Gaussians\n",
    "plt.ylim(27.5, 32.5)    # Example limits for PSNR\n",
    "plt.xscale('log')\n",
    "plt.xlabel('Number of Gaussians (n_gaussians)')\n",
    "plt.ylabel('PSNR')\n",
    "\n",
    "# Show only one legend entry for each category\n",
    "handles, labels = plt.gca().get_legend_handles_labels()\n",
    "by_label = dict(zip(labels, handles))\n",
    "plt.legend(by_label.values(), by_label.keys(), bbox_to_anchor=(1.05, 1), loc='upper left')\n",
    "\n",
    "plt.grid(True)\n",
    "plt.show()\n"
   ]
  },
  {
   "cell_type": "code",
   "execution_count": 4,
   "metadata": {},
   "outputs": [
    {
     "ename": "NameError",
     "evalue": "name 'highlight_runs' is not defined",
     "output_type": "error",
     "traceback": [
      "\u001b[0;31m---------------------------------------------------------------------------\u001b[0m",
      "\u001b[0;31mNameError\u001b[0m                                 Traceback (most recent call last)",
      "Cell \u001b[0;32mIn[4], line 33\u001b[0m\n\u001b[1;32m     30\u001b[0m default_legend_added \u001b[38;5;241m=\u001b[39m \u001b[38;5;28;01mFalse\u001b[39;00m\n\u001b[1;32m     32\u001b[0m \u001b[38;5;66;03m# Highlight \"random\" runs in blue\u001b[39;00m\n\u001b[0;32m---> 33\u001b[0m \u001b[38;5;28;01mfor\u001b[39;00m run_id \u001b[38;5;129;01min\u001b[39;00m \u001b[43mhighlight_runs\u001b[49m:\n\u001b[1;32m     34\u001b[0m     \u001b[38;5;28;01mif\u001b[39;00m \u001b[38;5;124m'\u001b[39m\u001b[38;5;124mrandom\u001b[39m\u001b[38;5;124m'\u001b[39m \u001b[38;5;129;01min\u001b[39;00m run_id:\n\u001b[1;32m     35\u001b[0m         highlight_data \u001b[38;5;241m=\u001b[39m df[df[\u001b[38;5;124m'\u001b[39m\u001b[38;5;124mrun_id\u001b[39m\u001b[38;5;124m'\u001b[39m]\u001b[38;5;241m.\u001b[39mstr\u001b[38;5;241m.\u001b[39mcontains(run_id)]\n",
      "\u001b[0;31mNameError\u001b[0m: name 'highlight_runs' is not defined"
     ]
    }
   ],
   "source": [
    "import plotly.graph_objects as go\n",
    "from paretoset import paretoset\n",
    "import numpy as np\n",
    "\n",
    "# Step 1: Compute the Pareto front using the paretoset package\n",
    "mask = paretoset(df[['psnr', 'n_gaussians']], sense=['max', 'min'])\n",
    "\n",
    "# Extract the Pareto front from the results\n",
    "pareto_df = df[mask]\n",
    "\n",
    "# Step 2: Sort the Pareto front by n_gaussians (or psnr if you prefer)\n",
    "pareto_df = pareto_df.sort_values(by='n_gaussians')\n",
    "\n",
    "# Step 3: Plot all points\n",
    "fig = go.Figure()\n",
    "\n",
    "# Add all points to the scatter plot (optional if you want a background of all points)\n",
    "fig.add_trace(go.Scatter(\n",
    "    x=df['n_gaussians'],\n",
    "    y=df['psnr'],\n",
    "    mode='markers',\n",
    "    marker=dict(size=6, color='gray', opacity=0.5),\n",
    "    text=df['run_id'],  # Run ID will show when hovering\n",
    "    hoverinfo='text',\n",
    "    name='All Points'\n",
    "))\n",
    "\n",
    "# Track whether the random and default categories have been added to the legend\n",
    "random_legend_added = False\n",
    "default_legend_added = False\n",
    "\n",
    "# Highlight \"random\" runs in blue\n",
    "for run_id in highlight_runs:\n",
    "    if 'random' in run_id:\n",
    "        highlight_data = df[df['run_id'].str.contains(run_id)]\n",
    "        fig.add_trace(go.Scatter(\n",
    "            x=highlight_data['n_gaussians'],\n",
    "            y=highlight_data['psnr'],\n",
    "            mode='markers',\n",
    "            marker=dict(size=8, color='blue'),\n",
    "            text=highlight_data['run_id'],  # Run ID will show when hovering\n",
    "            hoverinfo='text',\n",
    "            name='Random Runs' if not random_legend_added else None,  # Show legend label only once\n",
    "            legendgroup='random',  # Group random runs under one legend group\n",
    "            showlegend=not random_legend_added  # Only show legend for the first run\n",
    "        ))\n",
    "        random_legend_added = True  # Mark random legend as added\n",
    "\n",
    "# Highlight \"default\" runs in green\n",
    "for run_id in highlight_runs:\n",
    "    if 'default' in run_id:\n",
    "        highlight_data = df[df['run_id'].str.contains(run_id)]\n",
    "        fig.add_trace(go.Scatter(\n",
    "            x=highlight_data['n_gaussians'],\n",
    "            y=highlight_data['psnr'],\n",
    "            mode='markers',\n",
    "            marker=dict(size=8, color='green'),\n",
    "            text=highlight_data['run_id'],  # Run ID will show when hovering\n",
    "            hoverinfo='text',\n",
    "            name='Default Runs' if not default_legend_added else None,  # Show legend label only once\n",
    "            legendgroup='default',  # Group default runs under one legend group\n",
    "            showlegend=not default_legend_added  # Only show legend for the first run\n",
    "        ))\n",
    "        default_legend_added = True  # Mark default legend as added\n",
    "\n",
    "# Add Pareto front points\n",
    "fig.add_trace(go.Scatter(\n",
    "    x=pareto_df['n_gaussians'],\n",
    "    y=pareto_df['psnr'],\n",
    "    mode='markers+lines',\n",
    "    marker=dict(size=8, color='red'),\n",
    "    line=dict(color='red', width=2),\n",
    "    text=pareto_df['run_id'],  # Run ID will show when hovering\n",
    "    hoverinfo='text',\n",
    "    name='Pareto Front'\n",
    "))\n",
    "\n",
    "# Step 4: Update layout\n",
    "fig.update_layout(\n",
    "    title='Pareto Front: Minimize Gaussians, Maximize PSNR',\n",
    "    xaxis=dict(title='Number of Gaussians (n_gaussians)', type='log'),\n",
    "    yaxis=dict(title='PSNR'),\n",
    "    legend=dict(orientation='h', yanchor='bottom', y=1.02, xanchor='right', x=1),\n",
    "    hovermode='closest'\n",
    ")\n",
    "\n",
    "# Step 5: Show the interactive plot\n",
    "fig.show()\n"
   ]
  },
  {
   "cell_type": "code",
   "execution_count": null,
   "metadata": {},
   "outputs": [
    {
     "data": {
      "application/vnd.plotly.v1+json": {
       "config": {
        "plotlyServerURL": "https://plot.ly"
       },
       "data": [
        {
         "hoverinfo": "text",
         "marker": {
          "color": "blue",
          "opacity": 0.5,
          "size": 6
         },
         "mode": "markers",
         "name": "All Points",
         "text": [
          "RL_eval_20240918_random_2_3",
          "RL_eval_20240918_random_2_3",
          "RL_eval_20240918_random_2_3",
          "RL_eval_20240918_random_2_0",
          "RL_eval_20240918_random_2_0",
          "RL_eval_20240918_random_2_0",
          "RL_eval_20240918_random_1_8",
          "RL_eval_20240918_random_1_8",
          "RL_eval_20240918_random_1_8",
          "RL_eval_20240918_random_1_5",
          "RL_eval_20240918_random_1_5",
          "RL_eval_20240918_random_1_5",
          "RL_eval_20240918_154625_698473_6304",
          "RL_eval_20240918_154625_698473_6304",
          "RL_eval_20240918_154625_698473_6304",
          "RL_eval_20240918_154625_483975_2317",
          "RL_eval_20240918_154625_483975_2317",
          "RL_eval_20240918_154625_483975_2317",
          "RL_eval_20240918_154625_367865_4622",
          "RL_eval_20240918_154625_367865_4622",
          "RL_eval_20240918_154625_367865_4622",
          "RL_eval_20240918_154625_449217_4723",
          "RL_eval_20240918_154625_449217_4723",
          "RL_eval_20240918_154625_449217_4723",
          "RL_eval_20240918_154543_050411_1738",
          "RL_eval_20240918_154543_050411_1738",
          "RL_eval_20240918_154543_050411_1738",
          "RL_eval_20240918_154541_706411_5091",
          "RL_eval_20240918_154541_706411_5091",
          "RL_eval_20240918_154541_706411_5091",
          "RL_eval_20240918_154543_255327_6887",
          "RL_eval_20240918_154543_255327_6887",
          "RL_eval_20240918_154543_255327_6887",
          "RL_eval_20240918_154543_074767_2720",
          "RL_eval_20240918_154543_074767_2720",
          "RL_eval_20240918_154543_074767_2720",
          "RL_eval_20240918_154543_141014_5451",
          "RL_eval_20240918_154543_141014_5451",
          "RL_eval_20240918_154543_141014_5451",
          "RL_eval_20240918_154541_680240_6171",
          "RL_eval_20240918_154541_680240_6171",
          "RL_eval_20240918_154541_680240_6171",
          "RL_eval_20240918_154543_122681_5606",
          "RL_eval_20240918_154543_122681_5606",
          "RL_eval_20240918_154543_122681_5606",
          "RL_eval_20240918_154540_918891_2216",
          "RL_eval_20240918_154540_918891_2216",
          "RL_eval_20240918_154540_918891_2216",
          "RL_eval_20240918_154540_887889_1350",
          "RL_eval_20240918_154540_887889_1350",
          "RL_eval_20240918_154540_887889_1350",
          "RL_eval_20240918_154541_773082_5383",
          "RL_eval_20240918_154541_773082_5383",
          "RL_eval_20240918_154541_773082_5383",
          "RL_eval_20240918_154541_741893_1284",
          "RL_eval_20240918_154541_741893_1284",
          "RL_eval_20240918_154541_741893_1284",
          "20240918_Gorilla_30000",
          "20240918_Gorilla_30000",
          "20240918_Gorilla_30000",
          "RL_eval_20240918_153228_840333_9152",
          "RL_eval_20240918_153228_840333_9152",
          "RL_eval_20240918_153228_840333_9152",
          "RL_eval_20240918_153230_625177_6178",
          "RL_eval_20240918_153230_625177_6178",
          "RL_eval_20240918_153230_625177_6178",
          "RL_eval_20240918_153230_626072_1866",
          "RL_eval_20240918_153230_626072_1866",
          "RL_eval_20240918_153230_626072_1866",
          "RL_eval_20240918_153228_912965_9314",
          "RL_eval_20240918_153228_912965_9314",
          "RL_eval_20240918_153228_912965_9314",
          "RL_eval_20240918_153230_565390_6515",
          "RL_eval_20240918_153230_565390_6515",
          "RL_eval_20240918_153230_565390_6515",
          "RL_eval_20240918_153230_544212_1648",
          "RL_eval_20240918_153230_544212_1648",
          "RL_eval_20240918_153230_544212_1648",
          "RL_eval_20240918_153229_780354_4248",
          "RL_eval_20240918_153229_780354_4248",
          "RL_eval_20240918_153229_780354_4248",
          "RL_eval_20240918_153230_030903_5250",
          "RL_eval_20240918_153230_030903_5250",
          "RL_eval_20240918_153230_030903_5250",
          "RL_eval_20240918_153230_420571_4512",
          "RL_eval_20240918_153230_420571_4512",
          "RL_eval_20240918_153230_420571_4512",
          "RL_eval_20240918_153230_640273_1625",
          "RL_eval_20240918_153230_640273_1625",
          "RL_eval_20240918_153230_640273_1625",
          "RL_eval_20240918_153230_391336_8892",
          "RL_eval_20240918_153230_391336_8892",
          "RL_eval_20240918_153230_391336_8892",
          "RL_eval_20240918_153229_152297_7025",
          "RL_eval_20240918_153229_152297_7025",
          "RL_eval_20240918_153229_152297_7025",
          "RL_eval_20240918_153230_636550_7102",
          "RL_eval_20240918_153230_636550_7102",
          "RL_eval_20240918_153230_636550_7102",
          "RL_eval_20240918_153227_551683_8862",
          "RL_eval_20240918_153227_551683_8862",
          "RL_eval_20240918_153227_551683_8862",
          "RL_eval_20240918_153227_614418_8803",
          "RL_eval_20240918_153227_614418_8803",
          "RL_eval_20240918_153227_614418_8803",
          "RL_eval_20240918_153227_779709_9979",
          "RL_eval_20240918_153227_779709_9979",
          "RL_eval_20240918_153227_779709_9979",
          "RL_eval_20240918_153227_686240_4822",
          "RL_eval_20240918_153227_686240_4822",
          "RL_eval_20240918_153227_686240_4822",
          "RL_eval_20240918_153227_758458_8035",
          "RL_eval_20240918_153227_758458_8035",
          "RL_eval_20240918_153227_758458_8035",
          "RL_eval_20240918_153227_274001_7851",
          "RL_eval_20240918_153227_274001_7851",
          "RL_eval_20240918_153227_274001_7851",
          "RL_eval_20240918_153227_768029_5426",
          "RL_eval_20240918_153227_768029_5426",
          "RL_eval_20240918_153227_768029_5426",
          "RL_eval_20240918_153226_203000_4306",
          "RL_eval_20240918_153226_203000_4306",
          "RL_eval_20240918_153226_203000_4306",
          "RL_eval_20240918_153226_249264_7178",
          "RL_eval_20240918_153226_249264_7178",
          "RL_eval_20240918_153226_249264_7178",
          "RL_eval_20240918_153226_085535_5932",
          "RL_eval_20240918_153226_085535_5932",
          "RL_eval_20240918_153226_085535_5932",
          "RL_eval_20240918_153226_105375_3303",
          "RL_eval_20240918_153226_105375_3303",
          "RL_eval_20240918_153226_105375_3303"
         ],
         "type": "scatter",
         "x": [
          46069,
          46069,
          46069,
          123828,
          123828,
          123828,
          313505,
          313505,
          313505,
          2889312,
          2889312,
          2889312,
          3242134,
          3242134,
          3242134,
          3135030,
          3135030,
          3135030,
          100464,
          100464,
          100464,
          1485647,
          1485647,
          1485647,
          177617,
          177617,
          177617,
          561769,
          561769,
          561769,
          382712,
          382712,
          382712,
          1456948,
          1456948,
          1456948,
          160816,
          160816,
          160816,
          227804,
          227804,
          227804,
          182873,
          182873,
          182873,
          69209,
          69209,
          69209,
          686344,
          686344,
          686344,
          4172097,
          4172097,
          4172097,
          126989,
          126989,
          126989,
          105543,
          105543,
          105543,
          122855,
          122855,
          122855,
          11803,
          11803,
          11803,
          11711,
          11711,
          11711,
          11756,
          11756,
          11756,
          11758,
          11758,
          11758,
          121766,
          121766,
          121766,
          123662,
          123662,
          123662,
          122163,
          122163,
          122163,
          11861,
          11861,
          11861,
          11800,
          11800,
          11800,
          3328309,
          3328309,
          3328309,
          4146652,
          4146652,
          4146652,
          3841111,
          3841111,
          3841111,
          11799,
          11799,
          11799,
          11849,
          11849,
          11849,
          22066,
          22066,
          22066,
          11847,
          11847,
          11847,
          11702,
          11702,
          11702,
          11707,
          11707,
          11707,
          11795,
          11795,
          11795,
          11792,
          11792,
          11792,
          11871,
          11871,
          11871,
          11847,
          11847,
          11847,
          11853,
          11853,
          11853
         ],
         "y": [
          31.108565492630007,
          31.108565492630007,
          31.108565492630007,
          30.671958315968514,
          30.671958315968514,
          30.671958315968514,
          31.630883932113647,
          31.630883932113647,
          31.630883932113647,
          31.549027312994003,
          31.549027312994003,
          31.549027312994003,
          29.453434884548187,
          29.453434884548187,
          29.453434884548187,
          29.554549789428712,
          29.554549789428712,
          29.554549789428712,
          30.118245566487314,
          30.118245566487314,
          30.118245566487314,
          30.695043705701828,
          30.695043705701828,
          30.695043705701828,
          31.034528561234474,
          31.034528561234474,
          31.034528561234474,
          30.774798539578914,
          30.774798539578914,
          30.774798539578914,
          30.782916470170022,
          30.782916470170022,
          30.782916470170022,
          30.970249211490156,
          30.970249211490156,
          30.970249211490156,
          29.582218786776068,
          29.582218786776068,
          29.582218786776068,
          30.556681724488737,
          30.556681724488737,
          30.556681724488737,
          30.43223096251488,
          30.43223096251488,
          30.43223096251488,
          29.649502489566803,
          29.649502489566803,
          29.649502489566803,
          32.087436513900755,
          32.087436513900755,
          32.087436513900755,
          30.158691972196102,
          30.158691972196102,
          30.158691972196102,
          31.45159800618887,
          31.45159800618887,
          31.45159800618887,
          30.969500205516816,
          30.969500205516816,
          30.969500205516816,
          31.484385014772414,
          31.484385014772414,
          31.484385014772414,
          28.871518119573594,
          28.871518119573594,
          28.871518119573594,
          28.85798564583063,
          28.85798564583063,
          28.85798564583063,
          29.44869609326124,
          29.44869609326124,
          29.44869609326124,
          28.879464876055717,
          28.879464876055717,
          28.879464876055717,
          29.52491044998169,
          29.52491044998169,
          29.52491044998169,
          32.14780071258545,
          32.14780071258545,
          32.14780071258545,
          30.23484774708748,
          30.23484774708748,
          30.23484774708748,
          27.71123010277748,
          27.71123010277748,
          27.71123010277748,
          28.937725529372692,
          28.937725529372692,
          28.937725529372692,
          28.50431594312191,
          28.50431594312191,
          28.50431594312191,
          27.935120056271554,
          27.935120056271554,
          27.935120056271554,
          24.78777607113123,
          24.78777607113123,
          24.78777607113123,
          28.853612795770168,
          28.853612795770168,
          28.853612795770168,
          29.4213594147563,
          29.4213594147563,
          29.4213594147563,
          31.58038433074951,
          31.58038433074951,
          31.58038433074951,
          29.534280942380427,
          29.534280942380427,
          29.534280942380427,
          29.432452639937402,
          29.432452639937402,
          29.432452639937402,
          30.11526844024658,
          30.11526844024658,
          30.11526844024658,
          29.694188948571682,
          29.694188948571682,
          29.694188948571682,
          28.21519450068474,
          28.21519450068474,
          28.21519450068474,
          28.018008825182914,
          28.018008825182914,
          28.018008825182914,
          27.757596982717516,
          27.757596982717516,
          27.757596982717516,
          28.280059160292147,
          28.280059160292147,
          28.280059160292147
         ]
        },
        {
         "hoverinfo": "text",
         "marker": {
          "color": "rgb(181.91320349574085,225.59050253711484,20.01547602896494)",
          "size": 8
         },
         "mode": "markers",
         "name": "gs_default_100000",
         "text": [],
         "type": "scatter",
         "x": [],
         "y": []
        },
        {
         "hoverinfo": "text",
         "marker": {
          "color": "rgb(61.70538039957055,228.0442440600689,190.47765096315868)",
          "size": 8
         },
         "mode": "markers",
         "name": "gs_default_30000",
         "text": [],
         "type": "scatter",
         "x": [],
         "y": []
        },
        {
         "hoverinfo": "text",
         "marker": {
          "color": "rgb(148.2929734284347,206.37664788543486,201.25035669797225)",
          "size": 8
         },
         "mode": "markers",
         "name": "random_2_0_1_5",
         "text": [],
         "type": "scatter",
         "x": [],
         "y": []
        },
        {
         "hoverinfo": "text",
         "marker": {
          "color": "rgb(86.27262366475806,169.84559945007203,167.4786245596988)",
          "size": 8
         },
         "mode": "markers",
         "name": "random_1_8_1_8",
         "text": [],
         "type": "scatter",
         "x": [],
         "y": []
        },
        {
         "hoverinfo": "text",
         "marker": {
          "color": "rgb(193.05637021245886,234.48089971657703,36.770934578101716)",
          "size": 8
         },
         "mode": "markers",
         "name": "random_1_8_1_5",
         "text": [],
         "type": "scatter",
         "x": [],
         "y": []
        },
        {
         "hoverinfo": "text",
         "marker": {
          "color": "rgb(216.0764953854063,229.87504132198183,71.25599632412779)",
          "size": 8
         },
         "mode": "markers",
         "name": "random_2_0_1_8",
         "text": [],
         "type": "scatter",
         "x": [],
         "y": []
        },
        {
         "hoverinfo": "text",
         "marker": {
          "color": "rgb(25.29316573468295,11.45102468650212,163.98523173547983)",
          "size": 8
         },
         "mode": "markers",
         "name": "random_1_8_2_0",
         "text": [],
         "type": "scatter",
         "x": [],
         "y": []
        },
        {
         "hoverinfo": "text",
         "marker": {
          "color": "rgb(53.06859986537665,101.1984556706034,41.94632141476631)",
          "size": 8
         },
         "mode": "markers",
         "name": "random_2_0_2_0",
         "text": [],
         "type": "scatter",
         "x": [],
         "y": []
        },
        {
         "hoverinfo": "text",
         "marker": {
          "color": "rgb(102.30315785971975,234.46595962887773,207.91690121443673)",
          "size": 8
         },
         "mode": "markers",
         "name": "random_1_5_1_8",
         "text": [],
         "type": "scatter",
         "x": [],
         "y": []
        },
        {
         "hoverinfo": "text",
         "marker": {
          "color": "rgb(162.05100515294706,9.05534285485269,17.11313339329859)",
          "size": 8
         },
         "mode": "markers",
         "name": "random_1_5_2_0",
         "text": [],
         "type": "scatter",
         "x": [],
         "y": []
        },
        {
         "hoverinfo": "text",
         "marker": {
          "color": "rgb(99.56888924511395,174.99917966798515,116.2361018197902)",
          "size": 8
         },
         "mode": "markers",
         "name": "random_1_5_1_5",
         "text": [],
         "type": "scatter",
         "x": [],
         "y": []
        },
        {
         "hoverinfo": "text",
         "marker": {
          "color": "rgb(131.73599485043079,138.4448191860297,197.01642502112938)",
          "size": 8
         },
         "mode": "markers",
         "name": "random_2_3_2_3",
         "text": [],
         "type": "scatter",
         "x": [],
         "y": []
        },
        {
         "hoverinfo": "text",
         "marker": {
          "color": "rgb(41.95383007914352,7.121794912868869,0.8113389795411258)",
          "size": 8
         },
         "mode": "markers",
         "name": "rand_100000_iterations_iterations_20240924_112104_908789_5542",
         "text": [],
         "type": "scatter",
         "x": [],
         "y": []
        },
        {
         "hoverinfo": "text",
         "marker": {
          "color": "rgb(113.12955524936216,184.76438123279954,20.22173086541694)",
          "size": 8
         },
         "mode": "markers",
         "name": "rand_100000_iterations_iterations_20240924_112104_979157_4173",
         "text": [],
         "type": "scatter",
         "x": [],
         "y": []
        },
        {
         "hoverinfo": "text",
         "marker": {
          "color": "rgb(86.73430224366558,83.7433452384925,149.35623098993577)",
          "size": 8
         },
         "mode": "markers",
         "name": "rand_100000_iterations_iterations_20240924_112104_844947_5059",
         "text": [],
         "type": "scatter",
         "x": [],
         "y": []
        },
        {
         "hoverinfo": "text",
         "marker": {
          "color": "rgb(188.62660609938536,35.55417108399264,234.33642269956826)",
          "size": 8
         },
         "mode": "markers",
         "name": "rand_100000_iterations_iterations_20240924_112104_250131_3653",
         "text": [],
         "type": "scatter",
         "x": [],
         "y": []
        },
        {
         "hoverinfo": "text",
         "marker": {
          "color": "rgb(93.90791229255996,191.32738892194348,34.30722818013217)",
          "size": 8
         },
         "mode": "markers",
         "name": "rand_100000_iterations_iterations_20240924_112104_989418_7072",
         "text": [],
         "type": "scatter",
         "x": [],
         "y": []
        },
        {
         "hoverinfo": "text",
         "marker": {
          "color": "rgb(29.345223258992224,204.8280592083215,134.8964119372868)",
          "size": 8
         },
         "mode": "markers",
         "name": "rand_100000_iterations_iterations_20240924_112104_239677_3378",
         "text": [],
         "type": "scatter",
         "x": [],
         "y": []
        },
        {
         "hoverinfo": "text",
         "marker": {
          "color": "rgb(103.03867831978937,176.8293762787425,40.790241584508635)",
          "size": 8
         },
         "mode": "markers",
         "name": "rand_100000_iterations_iterations_20240924_112104_254923_3283",
         "text": [],
         "type": "scatter",
         "x": [],
         "y": []
        },
        {
         "hoverinfo": "text",
         "marker": {
          "color": "rgb(152.6184672090672,88.17989028002079,208.73070842756673)",
          "size": 8
         },
         "mode": "markers",
         "name": "rand_100000_iterations_iterations_20240924_112104_493172_5045",
         "text": [],
         "type": "scatter",
         "x": [],
         "y": []
        },
        {
         "hoverinfo": "text",
         "marker": {
          "color": "rgb(160.89120001231097,14.021558627786357,222.1710306551063)",
          "size": 8
         },
         "mode": "markers",
         "name": "rand_100000_iterations_iterations_20240924_112104_126260_1915",
         "text": [],
         "type": "scatter",
         "x": [],
         "y": []
        },
        {
         "hoverinfo": "text",
         "marker": {
          "color": "rgb(215.12826066456984,61.198151709891306,130.9616534847094)",
          "size": 8
         },
         "mode": "markers",
         "name": "rand_100000_iterations_iterations_20240924_112104_991455_4474",
         "text": [],
         "type": "scatter",
         "x": [],
         "y": []
        },
        {
         "hoverinfo": "text",
         "marker": {
          "color": "rgb(198.4651209170828,105.98285219580094,99.45389525561546)",
          "size": 8
         },
         "mode": "markers",
         "name": "rand_100000_iterations_iterations_20240924_112104_882156_3234",
         "text": [],
         "type": "scatter",
         "x": [],
         "y": []
        },
        {
         "hoverinfo": "text",
         "marker": {
          "color": "rgb(93.28596579530446,226.44364366666179,143.8106010972567)",
          "size": 8
         },
         "mode": "markers",
         "name": "rand_100000_iterations_iterations_20240924_112104_564349_5451",
         "text": [],
         "type": "scatter",
         "x": [],
         "y": []
        },
        {
         "hoverinfo": "text",
         "marker": {
          "color": "rgb(238.74604616968688,84.43676953412476,158.24812923758654)",
          "size": 8
         },
         "mode": "markers",
         "name": "rand_100000_iterations_iterations_20240924_112104_688199_5927",
         "text": [],
         "type": "scatter",
         "x": [],
         "y": []
        },
        {
         "hoverinfo": "text",
         "marker": {
          "color": "rgb(141.07059591347306,155.71656235958483,93.78065085245841)",
          "size": 8
         },
         "mode": "markers",
         "name": "rand_100000_iterations_iterations_20240924_112104_794946_1741",
         "text": [],
         "type": "scatter",
         "x": [],
         "y": []
        },
        {
         "hoverinfo": "text",
         "marker": {
          "color": "rgb(153.45475035972578,9.586796678876068,150.99292110477876)",
          "size": 8
         },
         "mode": "markers",
         "name": "rand_100000_iterations_iterations_20240924_112104_805442_4223",
         "text": [],
         "type": "scatter",
         "x": [],
         "y": []
        },
        {
         "hoverinfo": "text",
         "marker": {
          "color": "rgb(121.32603409511505,23.401538241435652,50.68797470364233)",
          "size": 8
         },
         "mode": "markers",
         "name": "rand_100000_iterations_iterations_20240924_112104_274777_1880",
         "text": [],
         "type": "scatter",
         "x": [],
         "y": []
        },
        {
         "hoverinfo": "text",
         "marker": {
          "color": "rgb(109.61102343570833,151.48325052103385,83.9599291579057)",
          "size": 8
         },
         "mode": "markers",
         "name": "grad_thresholds_131751",
         "text": [],
         "type": "scatter",
         "x": [],
         "y": []
        },
        {
         "hoverinfo": "text",
         "marker": {
          "color": "rgb(175.57456101465326,66.70531650838838,194.48057459312955)",
          "size": 8
         },
         "mode": "markers",
         "name": "grad_thresholds_131752",
         "text": [],
         "type": "scatter",
         "x": [],
         "y": []
        },
        {
         "hoverinfo": "text",
         "marker": {
          "color": "rgb(250.15676089068634,66.78082886254424,73.83897394951826)",
          "size": 8
         },
         "mode": "markers",
         "name": "grad_thresholds_131753",
         "text": [],
         "type": "scatter",
         "x": [],
         "y": []
        },
        {
         "hoverinfo": "text",
         "marker": {
          "color": "rgb(197.31125629780837,76.1838052998403,110.71087211877428)",
          "size": 8
         },
         "mode": "markers",
         "name": "grad_thresholds_131754",
         "text": [],
         "type": "scatter",
         "x": [],
         "y": []
        },
        {
         "hoverinfo": "text",
         "marker": {
          "color": "rgb(46.908872857654636,8.293604295092859,182.7180104819198)",
          "size": 8
         },
         "mode": "markers",
         "name": "grad_thresholds_131755",
         "text": [],
         "type": "scatter",
         "x": [],
         "y": []
        },
        {
         "hoverinfo": "text",
         "marker": {
          "color": "rgb(170.91256465128137,144.1694093735576,134.1255798703968)",
          "size": 8
         },
         "mode": "markers",
         "name": "grad_thresholds_131756",
         "text": [],
         "type": "scatter",
         "x": [],
         "y": []
        },
        {
         "hoverinfo": "text",
         "marker": {
          "color": "rgb(52.532971927428314,37.909179883460666,194.8856489827656)",
          "size": 8
         },
         "mode": "markers",
         "name": "grad_thresholds_131757",
         "text": [],
         "type": "scatter",
         "x": [],
         "y": []
        },
        {
         "hoverinfo": "text",
         "marker": {
          "color": "rgb(122.88901064234388,149.3000613500322,94.66307375013099)",
          "size": 8
         },
         "mode": "markers",
         "name": "grad_thresholds_131758",
         "text": [],
         "type": "scatter",
         "x": [],
         "y": []
        },
        {
         "hoverinfo": "text",
         "marker": {
          "color": "rgb(87.5413878348467,53.64181630876778,39.69759366082767)",
          "size": 8
         },
         "mode": "markers",
         "name": "ppo_relative_diff_psnr_215932_345640_2187",
         "text": [],
         "type": "scatter",
         "x": [],
         "y": []
        },
        {
         "hoverinfo": "text",
         "marker": {
          "color": "rgb(100.6925097149489,22.789485605320458,109.7756020016751)",
          "size": 8
         },
         "mode": "markers",
         "name": "ppo_relative_diff_psnr_215932_361944_7518",
         "text": [],
         "type": "scatter",
         "x": [],
         "y": []
        },
        {
         "hoverinfo": "text",
         "marker": {
          "color": "rgb(49.24256254731696,209.483601407972,50.62647514109308)",
          "size": 8
         },
         "mode": "markers",
         "name": "ppo_relative_diff_psnr_215931_195041_4666",
         "text": [],
         "type": "scatter",
         "x": [],
         "y": []
        },
        {
         "hoverinfo": "text",
         "marker": {
          "color": "rgb(160.03045789871948,66.17868163074336,233.32651011692246)",
          "size": 8
         },
         "mode": "markers",
         "name": "ppo_relative_diff_psnr_215932_195936_8672",
         "text": [],
         "type": "scatter",
         "x": [],
         "y": []
        },
        {
         "hoverinfo": "text",
         "marker": {
          "color": "rgb(50.93554979140943,164.4469327816173,163.28937196135314)",
          "size": 8
         },
         "mode": "markers",
         "name": "ppo_relative_diff_psnr_215931_312464_6199",
         "text": [],
         "type": "scatter",
         "x": [],
         "y": []
        },
        {
         "hoverinfo": "text",
         "marker": {
          "color": "rgb(182.58095003905882,151.71801114976518,101.51324729076177)",
          "size": 8
         },
         "mode": "markers",
         "name": "ppo_relative_diff_psnr_215932_461370_6336",
         "text": [],
         "type": "scatter",
         "x": [],
         "y": []
        },
        {
         "hoverinfo": "text",
         "marker": {
          "color": "rgb(17.553542496199327,56.2518340696395,148.82745509438922)",
          "size": 8
         },
         "mode": "markers",
         "name": "ppo_relative_diff_psnr_215932_409465_5835",
         "text": [],
         "type": "scatter",
         "x": [],
         "y": []
        },
        {
         "hoverinfo": "text",
         "marker": {
          "color": "rgb(162.17924448368748,194.4201731930795,59.000644756172214)",
          "size": 8
         },
         "mode": "markers",
         "name": "ppo_relative_diff_psnr_215931_307088_3670",
         "text": [],
         "type": "scatter",
         "x": [],
         "y": []
        },
        {
         "hoverinfo": "text",
         "marker": {
          "color": "rgb(23.20470027730503,218.50770238196992,53.63363673717266)",
          "size": 8
         },
         "mode": "markers",
         "name": "ppo_relative_diff_psnr_215930_805206_1566",
         "text": [],
         "type": "scatter",
         "x": [],
         "y": []
        },
        {
         "hoverinfo": "text",
         "marker": {
          "color": "rgb(8.499061529312048,37.38248566651409,251.07100492813248)",
          "size": 8
         },
         "mode": "markers",
         "name": "ppo_relative_diff_psnr_215932_461836_9143",
         "text": [],
         "type": "scatter",
         "x": [],
         "y": []
        },
        {
         "hoverinfo": "text",
         "marker": {
          "color": "rgb(217.46555734519157,99.28853969664725,16.33138571451344)",
          "size": 8
         },
         "mode": "markers",
         "name": "ppo_relative_diff_psnr_215931_334543_9611",
         "text": [],
         "type": "scatter",
         "x": [],
         "y": []
        },
        {
         "hoverinfo": "text",
         "marker": {
          "color": "rgb(147.10070478085848,171.5926731928999,3.651875347558893)",
          "size": 8
         },
         "mode": "markers",
         "name": "ppo_relative_diff_psnr_215931_552723_3537",
         "text": [],
         "type": "scatter",
         "x": [],
         "y": []
        },
        {
         "hoverinfo": "text",
         "marker": {
          "color": "rgb(23.094057762096472,161.32857356641944,206.14713692852598)",
          "size": 8
         },
         "mode": "markers",
         "name": "ppo_relative_diff_psnr_215930_616060_4866",
         "text": [],
         "type": "scatter",
         "x": [],
         "y": []
        },
        {
         "hoverinfo": "text",
         "marker": {
          "color": "rgb(67.20568907884692,129.89358220624896,164.5894982017516)",
          "size": 8
         },
         "mode": "markers",
         "name": "num_start_gaussian_100000_1",
         "text": [],
         "type": "scatter",
         "x": [],
         "y": []
        },
        {
         "hoverinfo": "text",
         "marker": {
          "color": "rgb(5.338004502080217,127.80320056817521,78.29305593575596)",
          "size": 8
         },
         "mode": "markers",
         "name": "num_start_gaussian_100000_2",
         "text": [],
         "type": "scatter",
         "x": [],
         "y": []
        },
        {
         "hoverinfo": "text",
         "marker": {
          "color": "rgb(233.56490128439722,204.41432779132762,206.1578168282071)",
          "size": 8
         },
         "mode": "markers",
         "name": "num_start_gaussian_100000_3",
         "text": [],
         "type": "scatter",
         "x": [],
         "y": []
        },
        {
         "hoverinfo": "text",
         "marker": {
          "color": "rgb(64.57688332566283,249.64521962229065,82.10067819070011)",
          "size": 8
         },
         "mode": "markers",
         "name": "num_start_gaussian_100000_4",
         "text": [],
         "type": "scatter",
         "x": [],
         "y": []
        },
        {
         "hoverinfo": "text",
         "marker": {
          "color": "rgb(146.74578856182413,26.667929389266952,84.42917168180566)",
          "size": 8
         },
         "mode": "markers",
         "name": "num_start_gaussian_100000_5",
         "text": [],
         "type": "scatter",
         "x": [],
         "y": []
        },
        {
         "hoverinfo": "text",
         "marker": {
          "color": "rgb(168.09693632286601,126.85607056848633,75.77594593861335)",
          "size": 8
         },
         "mode": "markers",
         "name": "num_start_gaussian_100000_6",
         "text": [],
         "type": "scatter",
         "x": [],
         "y": []
        },
        {
         "hoverinfo": "text",
         "marker": {
          "color": "rgb(145.81635780003566,52.95418495864576,126.343021088521)",
          "size": 8
         },
         "mode": "markers",
         "name": "num_start_gaussian_100000_7",
         "text": [],
         "type": "scatter",
         "x": [],
         "y": []
        },
        {
         "hoverinfo": "text",
         "marker": {
          "color": "rgb(248.3504349876338,134.66433510874037,183.90992700169005)",
          "size": 8
         },
         "mode": "markers",
         "name": "num_start_gaussian_100000_8",
         "text": [],
         "type": "scatter",
         "x": [],
         "y": []
        },
        {
         "hoverinfo": "text",
         "marker": {
          "color": "rgb(67.40719066923435,161.49626734310286,218.75299161464224)",
          "size": 8
         },
         "mode": "markers",
         "name": "grad_thresholds_30000_0",
         "text": [],
         "type": "scatter",
         "x": [],
         "y": []
        },
        {
         "hoverinfo": "text",
         "marker": {
          "color": "rgb(68.06854083789649,105.25341227962221,218.52280985644333)",
          "size": 8
         },
         "mode": "markers",
         "name": "grad_thresholds_30000_1",
         "text": [],
         "type": "scatter",
         "x": [],
         "y": []
        },
        {
         "hoverinfo": "text",
         "marker": {
          "color": "rgb(47.70676309839124,197.3507840679193,210.00566531834062)",
          "size": 8
         },
         "mode": "markers",
         "name": "grad_thresholds_30000_2",
         "text": [],
         "type": "scatter",
         "x": [],
         "y": []
        },
        {
         "hoverinfo": "text",
         "marker": {
          "color": "rgb(44.28870380370669,97.58907172813767,40.69712186374695)",
          "size": 8
         },
         "mode": "markers",
         "name": "grad_thresholds_30000_3",
         "text": [],
         "type": "scatter",
         "x": [],
         "y": []
        },
        {
         "hoverinfo": "text",
         "marker": {
          "color": "rgb(5.452173270503251,77.3212571029764,75.17812533589672)",
          "size": 8
         },
         "mode": "markers",
         "name": "grad_thresholds_30000_4",
         "text": [],
         "type": "scatter",
         "x": [],
         "y": []
        },
        {
         "hoverinfo": "text",
         "marker": {
          "color": "rgb(41.02432859688666,115.68492090094892,101.07477035460353)",
          "size": 8
         },
         "mode": "markers",
         "name": "grad_thresholds_30000_5",
         "text": [],
         "type": "scatter",
         "x": [],
         "y": []
        },
        {
         "hoverinfo": "text",
         "marker": {
          "color": "rgb(163.5178736942413,71.15264226093748,119.64184737289611)",
          "size": 8
         },
         "mode": "markers",
         "name": "grad_thresholds_30000_6",
         "text": [],
         "type": "scatter",
         "x": [],
         "y": []
        },
        {
         "hoverinfo": "text",
         "marker": {
          "color": "rgb(105.05182171815194,103.1881977984951,216.50769718729885)",
          "size": 8
         },
         "mode": "markers",
         "name": "grad_thresholds_30000_7",
         "text": [],
         "type": "scatter",
         "x": [],
         "y": []
        },
        {
         "hoverinfo": "text",
         "marker": {
          "color": "rgb(2.935954555629831,219.21802146731602,21.140816823274054)",
          "size": 8
         },
         "mode": "markers",
         "name": "grad_thresholds_30000_8",
         "text": [],
         "type": "scatter",
         "x": [],
         "y": []
        },
        {
         "hoverinfo": "text",
         "line": {
          "color": "red",
          "width": 2
         },
         "marker": {
          "color": "red",
          "size": 8
         },
         "mode": "markers+lines",
         "name": "Pareto Front",
         "text": [
          "RL_eval_20240918_153227_758458_8035",
          "RL_eval_20240918_153227_274001_7851",
          "RL_eval_20240918_153227_779709_9979",
          "RL_eval_20240918_153229_780354_4248"
         ],
         "type": "scatter",
         "x": [
          11702,
          11707,
          22066,
          123662
         ],
         "y": [
          29.432452639937402,
          30.11526844024658,
          31.58038433074951,
          32.14780071258545
         ]
        }
       ],
       "layout": {
        "hovermode": "closest",
        "legend": {
         "orientation": "h",
         "x": 1,
         "xanchor": "right",
         "y": 1.02,
         "yanchor": "bottom"
        },
        "template": {
         "data": {
          "bar": [
           {
            "error_x": {
             "color": "#2a3f5f"
            },
            "error_y": {
             "color": "#2a3f5f"
            },
            "marker": {
             "line": {
              "color": "#E5ECF6",
              "width": 0.5
             },
             "pattern": {
              "fillmode": "overlay",
              "size": 10,
              "solidity": 0.2
             }
            },
            "type": "bar"
           }
          ],
          "barpolar": [
           {
            "marker": {
             "line": {
              "color": "#E5ECF6",
              "width": 0.5
             },
             "pattern": {
              "fillmode": "overlay",
              "size": 10,
              "solidity": 0.2
             }
            },
            "type": "barpolar"
           }
          ],
          "carpet": [
           {
            "aaxis": {
             "endlinecolor": "#2a3f5f",
             "gridcolor": "white",
             "linecolor": "white",
             "minorgridcolor": "white",
             "startlinecolor": "#2a3f5f"
            },
            "baxis": {
             "endlinecolor": "#2a3f5f",
             "gridcolor": "white",
             "linecolor": "white",
             "minorgridcolor": "white",
             "startlinecolor": "#2a3f5f"
            },
            "type": "carpet"
           }
          ],
          "choropleth": [
           {
            "colorbar": {
             "outlinewidth": 0,
             "ticks": ""
            },
            "type": "choropleth"
           }
          ],
          "contour": [
           {
            "colorbar": {
             "outlinewidth": 0,
             "ticks": ""
            },
            "colorscale": [
             [
              0,
              "#0d0887"
             ],
             [
              0.1111111111111111,
              "#46039f"
             ],
             [
              0.2222222222222222,
              "#7201a8"
             ],
             [
              0.3333333333333333,
              "#9c179e"
             ],
             [
              0.4444444444444444,
              "#bd3786"
             ],
             [
              0.5555555555555556,
              "#d8576b"
             ],
             [
              0.6666666666666666,
              "#ed7953"
             ],
             [
              0.7777777777777778,
              "#fb9f3a"
             ],
             [
              0.8888888888888888,
              "#fdca26"
             ],
             [
              1,
              "#f0f921"
             ]
            ],
            "type": "contour"
           }
          ],
          "contourcarpet": [
           {
            "colorbar": {
             "outlinewidth": 0,
             "ticks": ""
            },
            "type": "contourcarpet"
           }
          ],
          "heatmap": [
           {
            "colorbar": {
             "outlinewidth": 0,
             "ticks": ""
            },
            "colorscale": [
             [
              0,
              "#0d0887"
             ],
             [
              0.1111111111111111,
              "#46039f"
             ],
             [
              0.2222222222222222,
              "#7201a8"
             ],
             [
              0.3333333333333333,
              "#9c179e"
             ],
             [
              0.4444444444444444,
              "#bd3786"
             ],
             [
              0.5555555555555556,
              "#d8576b"
             ],
             [
              0.6666666666666666,
              "#ed7953"
             ],
             [
              0.7777777777777778,
              "#fb9f3a"
             ],
             [
              0.8888888888888888,
              "#fdca26"
             ],
             [
              1,
              "#f0f921"
             ]
            ],
            "type": "heatmap"
           }
          ],
          "heatmapgl": [
           {
            "colorbar": {
             "outlinewidth": 0,
             "ticks": ""
            },
            "colorscale": [
             [
              0,
              "#0d0887"
             ],
             [
              0.1111111111111111,
              "#46039f"
             ],
             [
              0.2222222222222222,
              "#7201a8"
             ],
             [
              0.3333333333333333,
              "#9c179e"
             ],
             [
              0.4444444444444444,
              "#bd3786"
             ],
             [
              0.5555555555555556,
              "#d8576b"
             ],
             [
              0.6666666666666666,
              "#ed7953"
             ],
             [
              0.7777777777777778,
              "#fb9f3a"
             ],
             [
              0.8888888888888888,
              "#fdca26"
             ],
             [
              1,
              "#f0f921"
             ]
            ],
            "type": "heatmapgl"
           }
          ],
          "histogram": [
           {
            "marker": {
             "pattern": {
              "fillmode": "overlay",
              "size": 10,
              "solidity": 0.2
             }
            },
            "type": "histogram"
           }
          ],
          "histogram2d": [
           {
            "colorbar": {
             "outlinewidth": 0,
             "ticks": ""
            },
            "colorscale": [
             [
              0,
              "#0d0887"
             ],
             [
              0.1111111111111111,
              "#46039f"
             ],
             [
              0.2222222222222222,
              "#7201a8"
             ],
             [
              0.3333333333333333,
              "#9c179e"
             ],
             [
              0.4444444444444444,
              "#bd3786"
             ],
             [
              0.5555555555555556,
              "#d8576b"
             ],
             [
              0.6666666666666666,
              "#ed7953"
             ],
             [
              0.7777777777777778,
              "#fb9f3a"
             ],
             [
              0.8888888888888888,
              "#fdca26"
             ],
             [
              1,
              "#f0f921"
             ]
            ],
            "type": "histogram2d"
           }
          ],
          "histogram2dcontour": [
           {
            "colorbar": {
             "outlinewidth": 0,
             "ticks": ""
            },
            "colorscale": [
             [
              0,
              "#0d0887"
             ],
             [
              0.1111111111111111,
              "#46039f"
             ],
             [
              0.2222222222222222,
              "#7201a8"
             ],
             [
              0.3333333333333333,
              "#9c179e"
             ],
             [
              0.4444444444444444,
              "#bd3786"
             ],
             [
              0.5555555555555556,
              "#d8576b"
             ],
             [
              0.6666666666666666,
              "#ed7953"
             ],
             [
              0.7777777777777778,
              "#fb9f3a"
             ],
             [
              0.8888888888888888,
              "#fdca26"
             ],
             [
              1,
              "#f0f921"
             ]
            ],
            "type": "histogram2dcontour"
           }
          ],
          "mesh3d": [
           {
            "colorbar": {
             "outlinewidth": 0,
             "ticks": ""
            },
            "type": "mesh3d"
           }
          ],
          "parcoords": [
           {
            "line": {
             "colorbar": {
              "outlinewidth": 0,
              "ticks": ""
             }
            },
            "type": "parcoords"
           }
          ],
          "pie": [
           {
            "automargin": true,
            "type": "pie"
           }
          ],
          "scatter": [
           {
            "fillpattern": {
             "fillmode": "overlay",
             "size": 10,
             "solidity": 0.2
            },
            "type": "scatter"
           }
          ],
          "scatter3d": [
           {
            "line": {
             "colorbar": {
              "outlinewidth": 0,
              "ticks": ""
             }
            },
            "marker": {
             "colorbar": {
              "outlinewidth": 0,
              "ticks": ""
             }
            },
            "type": "scatter3d"
           }
          ],
          "scattercarpet": [
           {
            "marker": {
             "colorbar": {
              "outlinewidth": 0,
              "ticks": ""
             }
            },
            "type": "scattercarpet"
           }
          ],
          "scattergeo": [
           {
            "marker": {
             "colorbar": {
              "outlinewidth": 0,
              "ticks": ""
             }
            },
            "type": "scattergeo"
           }
          ],
          "scattergl": [
           {
            "marker": {
             "colorbar": {
              "outlinewidth": 0,
              "ticks": ""
             }
            },
            "type": "scattergl"
           }
          ],
          "scattermapbox": [
           {
            "marker": {
             "colorbar": {
              "outlinewidth": 0,
              "ticks": ""
             }
            },
            "type": "scattermapbox"
           }
          ],
          "scatterpolar": [
           {
            "marker": {
             "colorbar": {
              "outlinewidth": 0,
              "ticks": ""
             }
            },
            "type": "scatterpolar"
           }
          ],
          "scatterpolargl": [
           {
            "marker": {
             "colorbar": {
              "outlinewidth": 0,
              "ticks": ""
             }
            },
            "type": "scatterpolargl"
           }
          ],
          "scatterternary": [
           {
            "marker": {
             "colorbar": {
              "outlinewidth": 0,
              "ticks": ""
             }
            },
            "type": "scatterternary"
           }
          ],
          "surface": [
           {
            "colorbar": {
             "outlinewidth": 0,
             "ticks": ""
            },
            "colorscale": [
             [
              0,
              "#0d0887"
             ],
             [
              0.1111111111111111,
              "#46039f"
             ],
             [
              0.2222222222222222,
              "#7201a8"
             ],
             [
              0.3333333333333333,
              "#9c179e"
             ],
             [
              0.4444444444444444,
              "#bd3786"
             ],
             [
              0.5555555555555556,
              "#d8576b"
             ],
             [
              0.6666666666666666,
              "#ed7953"
             ],
             [
              0.7777777777777778,
              "#fb9f3a"
             ],
             [
              0.8888888888888888,
              "#fdca26"
             ],
             [
              1,
              "#f0f921"
             ]
            ],
            "type": "surface"
           }
          ],
          "table": [
           {
            "cells": {
             "fill": {
              "color": "#EBF0F8"
             },
             "line": {
              "color": "white"
             }
            },
            "header": {
             "fill": {
              "color": "#C8D4E3"
             },
             "line": {
              "color": "white"
             }
            },
            "type": "table"
           }
          ]
         },
         "layout": {
          "annotationdefaults": {
           "arrowcolor": "#2a3f5f",
           "arrowhead": 0,
           "arrowwidth": 1
          },
          "autotypenumbers": "strict",
          "coloraxis": {
           "colorbar": {
            "outlinewidth": 0,
            "ticks": ""
           }
          },
          "colorscale": {
           "diverging": [
            [
             0,
             "#8e0152"
            ],
            [
             0.1,
             "#c51b7d"
            ],
            [
             0.2,
             "#de77ae"
            ],
            [
             0.3,
             "#f1b6da"
            ],
            [
             0.4,
             "#fde0ef"
            ],
            [
             0.5,
             "#f7f7f7"
            ],
            [
             0.6,
             "#e6f5d0"
            ],
            [
             0.7,
             "#b8e186"
            ],
            [
             0.8,
             "#7fbc41"
            ],
            [
             0.9,
             "#4d9221"
            ],
            [
             1,
             "#276419"
            ]
           ],
           "sequential": [
            [
             0,
             "#0d0887"
            ],
            [
             0.1111111111111111,
             "#46039f"
            ],
            [
             0.2222222222222222,
             "#7201a8"
            ],
            [
             0.3333333333333333,
             "#9c179e"
            ],
            [
             0.4444444444444444,
             "#bd3786"
            ],
            [
             0.5555555555555556,
             "#d8576b"
            ],
            [
             0.6666666666666666,
             "#ed7953"
            ],
            [
             0.7777777777777778,
             "#fb9f3a"
            ],
            [
             0.8888888888888888,
             "#fdca26"
            ],
            [
             1,
             "#f0f921"
            ]
           ],
           "sequentialminus": [
            [
             0,
             "#0d0887"
            ],
            [
             0.1111111111111111,
             "#46039f"
            ],
            [
             0.2222222222222222,
             "#7201a8"
            ],
            [
             0.3333333333333333,
             "#9c179e"
            ],
            [
             0.4444444444444444,
             "#bd3786"
            ],
            [
             0.5555555555555556,
             "#d8576b"
            ],
            [
             0.6666666666666666,
             "#ed7953"
            ],
            [
             0.7777777777777778,
             "#fb9f3a"
            ],
            [
             0.8888888888888888,
             "#fdca26"
            ],
            [
             1,
             "#f0f921"
            ]
           ]
          },
          "colorway": [
           "#636efa",
           "#EF553B",
           "#00cc96",
           "#ab63fa",
           "#FFA15A",
           "#19d3f3",
           "#FF6692",
           "#B6E880",
           "#FF97FF",
           "#FECB52"
          ],
          "font": {
           "color": "#2a3f5f"
          },
          "geo": {
           "bgcolor": "white",
           "lakecolor": "white",
           "landcolor": "#E5ECF6",
           "showlakes": true,
           "showland": true,
           "subunitcolor": "white"
          },
          "hoverlabel": {
           "align": "left"
          },
          "hovermode": "closest",
          "mapbox": {
           "style": "light"
          },
          "paper_bgcolor": "white",
          "plot_bgcolor": "#E5ECF6",
          "polar": {
           "angularaxis": {
            "gridcolor": "white",
            "linecolor": "white",
            "ticks": ""
           },
           "bgcolor": "#E5ECF6",
           "radialaxis": {
            "gridcolor": "white",
            "linecolor": "white",
            "ticks": ""
           }
          },
          "scene": {
           "xaxis": {
            "backgroundcolor": "#E5ECF6",
            "gridcolor": "white",
            "gridwidth": 2,
            "linecolor": "white",
            "showbackground": true,
            "ticks": "",
            "zerolinecolor": "white"
           },
           "yaxis": {
            "backgroundcolor": "#E5ECF6",
            "gridcolor": "white",
            "gridwidth": 2,
            "linecolor": "white",
            "showbackground": true,
            "ticks": "",
            "zerolinecolor": "white"
           },
           "zaxis": {
            "backgroundcolor": "#E5ECF6",
            "gridcolor": "white",
            "gridwidth": 2,
            "linecolor": "white",
            "showbackground": true,
            "ticks": "",
            "zerolinecolor": "white"
           }
          },
          "shapedefaults": {
           "line": {
            "color": "#2a3f5f"
           }
          },
          "ternary": {
           "aaxis": {
            "gridcolor": "white",
            "linecolor": "white",
            "ticks": ""
           },
           "baxis": {
            "gridcolor": "white",
            "linecolor": "white",
            "ticks": ""
           },
           "bgcolor": "#E5ECF6",
           "caxis": {
            "gridcolor": "white",
            "linecolor": "white",
            "ticks": ""
           }
          },
          "title": {
           "x": 0.05
          },
          "xaxis": {
           "automargin": true,
           "gridcolor": "white",
           "linecolor": "white",
           "ticks": "",
           "title": {
            "standoff": 15
           },
           "zerolinecolor": "white",
           "zerolinewidth": 2
          },
          "yaxis": {
           "automargin": true,
           "gridcolor": "white",
           "linecolor": "white",
           "ticks": "",
           "title": {
            "standoff": 15
           },
           "zerolinecolor": "white",
           "zerolinewidth": 2
          }
         }
        },
        "title": {
         "text": "Pareto Front: Minimize Gaussians, Maximize PSNR"
        },
        "xaxis": {
         "title": {
          "text": "Number of Gaussians (n_gaussians)"
         },
         "type": "log"
        },
        "yaxis": {
         "title": {
          "text": "PSNR"
         }
        }
       }
      },
      "text/html": [
       "<div>                            <div id=\"8608c4e1-7405-4dcc-a833-db39acbdcb49\" class=\"plotly-graph-div\" style=\"height:525px; width:100%;\"></div>            <script type=\"text/javascript\">                require([\"plotly\"], function(Plotly) {                    window.PLOTLYENV=window.PLOTLYENV || {};                                    if (document.getElementById(\"8608c4e1-7405-4dcc-a833-db39acbdcb49\")) {                    Plotly.newPlot(                        \"8608c4e1-7405-4dcc-a833-db39acbdcb49\",                        [{\"hoverinfo\":\"text\",\"marker\":{\"color\":\"blue\",\"opacity\":0.5,\"size\":6},\"mode\":\"markers\",\"name\":\"All Points\",\"text\":[\"RL_eval_20240918_random_2_3\",\"RL_eval_20240918_random_2_3\",\"RL_eval_20240918_random_2_3\",\"RL_eval_20240918_random_2_0\",\"RL_eval_20240918_random_2_0\",\"RL_eval_20240918_random_2_0\",\"RL_eval_20240918_random_1_8\",\"RL_eval_20240918_random_1_8\",\"RL_eval_20240918_random_1_8\",\"RL_eval_20240918_random_1_5\",\"RL_eval_20240918_random_1_5\",\"RL_eval_20240918_random_1_5\",\"RL_eval_20240918_154625_698473_6304\",\"RL_eval_20240918_154625_698473_6304\",\"RL_eval_20240918_154625_698473_6304\",\"RL_eval_20240918_154625_483975_2317\",\"RL_eval_20240918_154625_483975_2317\",\"RL_eval_20240918_154625_483975_2317\",\"RL_eval_20240918_154625_367865_4622\",\"RL_eval_20240918_154625_367865_4622\",\"RL_eval_20240918_154625_367865_4622\",\"RL_eval_20240918_154625_449217_4723\",\"RL_eval_20240918_154625_449217_4723\",\"RL_eval_20240918_154625_449217_4723\",\"RL_eval_20240918_154543_050411_1738\",\"RL_eval_20240918_154543_050411_1738\",\"RL_eval_20240918_154543_050411_1738\",\"RL_eval_20240918_154541_706411_5091\",\"RL_eval_20240918_154541_706411_5091\",\"RL_eval_20240918_154541_706411_5091\",\"RL_eval_20240918_154543_255327_6887\",\"RL_eval_20240918_154543_255327_6887\",\"RL_eval_20240918_154543_255327_6887\",\"RL_eval_20240918_154543_074767_2720\",\"RL_eval_20240918_154543_074767_2720\",\"RL_eval_20240918_154543_074767_2720\",\"RL_eval_20240918_154543_141014_5451\",\"RL_eval_20240918_154543_141014_5451\",\"RL_eval_20240918_154543_141014_5451\",\"RL_eval_20240918_154541_680240_6171\",\"RL_eval_20240918_154541_680240_6171\",\"RL_eval_20240918_154541_680240_6171\",\"RL_eval_20240918_154543_122681_5606\",\"RL_eval_20240918_154543_122681_5606\",\"RL_eval_20240918_154543_122681_5606\",\"RL_eval_20240918_154540_918891_2216\",\"RL_eval_20240918_154540_918891_2216\",\"RL_eval_20240918_154540_918891_2216\",\"RL_eval_20240918_154540_887889_1350\",\"RL_eval_20240918_154540_887889_1350\",\"RL_eval_20240918_154540_887889_1350\",\"RL_eval_20240918_154541_773082_5383\",\"RL_eval_20240918_154541_773082_5383\",\"RL_eval_20240918_154541_773082_5383\",\"RL_eval_20240918_154541_741893_1284\",\"RL_eval_20240918_154541_741893_1284\",\"RL_eval_20240918_154541_741893_1284\",\"20240918_Gorilla_30000\",\"20240918_Gorilla_30000\",\"20240918_Gorilla_30000\",\"RL_eval_20240918_153228_840333_9152\",\"RL_eval_20240918_153228_840333_9152\",\"RL_eval_20240918_153228_840333_9152\",\"RL_eval_20240918_153230_625177_6178\",\"RL_eval_20240918_153230_625177_6178\",\"RL_eval_20240918_153230_625177_6178\",\"RL_eval_20240918_153230_626072_1866\",\"RL_eval_20240918_153230_626072_1866\",\"RL_eval_20240918_153230_626072_1866\",\"RL_eval_20240918_153228_912965_9314\",\"RL_eval_20240918_153228_912965_9314\",\"RL_eval_20240918_153228_912965_9314\",\"RL_eval_20240918_153230_565390_6515\",\"RL_eval_20240918_153230_565390_6515\",\"RL_eval_20240918_153230_565390_6515\",\"RL_eval_20240918_153230_544212_1648\",\"RL_eval_20240918_153230_544212_1648\",\"RL_eval_20240918_153230_544212_1648\",\"RL_eval_20240918_153229_780354_4248\",\"RL_eval_20240918_153229_780354_4248\",\"RL_eval_20240918_153229_780354_4248\",\"RL_eval_20240918_153230_030903_5250\",\"RL_eval_20240918_153230_030903_5250\",\"RL_eval_20240918_153230_030903_5250\",\"RL_eval_20240918_153230_420571_4512\",\"RL_eval_20240918_153230_420571_4512\",\"RL_eval_20240918_153230_420571_4512\",\"RL_eval_20240918_153230_640273_1625\",\"RL_eval_20240918_153230_640273_1625\",\"RL_eval_20240918_153230_640273_1625\",\"RL_eval_20240918_153230_391336_8892\",\"RL_eval_20240918_153230_391336_8892\",\"RL_eval_20240918_153230_391336_8892\",\"RL_eval_20240918_153229_152297_7025\",\"RL_eval_20240918_153229_152297_7025\",\"RL_eval_20240918_153229_152297_7025\",\"RL_eval_20240918_153230_636550_7102\",\"RL_eval_20240918_153230_636550_7102\",\"RL_eval_20240918_153230_636550_7102\",\"RL_eval_20240918_153227_551683_8862\",\"RL_eval_20240918_153227_551683_8862\",\"RL_eval_20240918_153227_551683_8862\",\"RL_eval_20240918_153227_614418_8803\",\"RL_eval_20240918_153227_614418_8803\",\"RL_eval_20240918_153227_614418_8803\",\"RL_eval_20240918_153227_779709_9979\",\"RL_eval_20240918_153227_779709_9979\",\"RL_eval_20240918_153227_779709_9979\",\"RL_eval_20240918_153227_686240_4822\",\"RL_eval_20240918_153227_686240_4822\",\"RL_eval_20240918_153227_686240_4822\",\"RL_eval_20240918_153227_758458_8035\",\"RL_eval_20240918_153227_758458_8035\",\"RL_eval_20240918_153227_758458_8035\",\"RL_eval_20240918_153227_274001_7851\",\"RL_eval_20240918_153227_274001_7851\",\"RL_eval_20240918_153227_274001_7851\",\"RL_eval_20240918_153227_768029_5426\",\"RL_eval_20240918_153227_768029_5426\",\"RL_eval_20240918_153227_768029_5426\",\"RL_eval_20240918_153226_203000_4306\",\"RL_eval_20240918_153226_203000_4306\",\"RL_eval_20240918_153226_203000_4306\",\"RL_eval_20240918_153226_249264_7178\",\"RL_eval_20240918_153226_249264_7178\",\"RL_eval_20240918_153226_249264_7178\",\"RL_eval_20240918_153226_085535_5932\",\"RL_eval_20240918_153226_085535_5932\",\"RL_eval_20240918_153226_085535_5932\",\"RL_eval_20240918_153226_105375_3303\",\"RL_eval_20240918_153226_105375_3303\",\"RL_eval_20240918_153226_105375_3303\"],\"x\":[46069.0,46069.0,46069.0,123828.0,123828.0,123828.0,313505.0,313505.0,313505.0,2889312.0,2889312.0,2889312.0,3242134.0,3242134.0,3242134.0,3135030.0,3135030.0,3135030.0,100464.0,100464.0,100464.0,1485647.0,1485647.0,1485647.0,177617.0,177617.0,177617.0,561769.0,561769.0,561769.0,382712.0,382712.0,382712.0,1456948.0,1456948.0,1456948.0,160816.0,160816.0,160816.0,227804.0,227804.0,227804.0,182873.0,182873.0,182873.0,69209.0,69209.0,69209.0,686344.0,686344.0,686344.0,4172097.0,4172097.0,4172097.0,126989.0,126989.0,126989.0,105543.0,105543.0,105543.0,122855.0,122855.0,122855.0,11803.0,11803.0,11803.0,11711.0,11711.0,11711.0,11756.0,11756.0,11756.0,11758.0,11758.0,11758.0,121766.0,121766.0,121766.0,123662.0,123662.0,123662.0,122163.0,122163.0,122163.0,11861.0,11861.0,11861.0,11800.0,11800.0,11800.0,3328309.0,3328309.0,3328309.0,4146652.0,4146652.0,4146652.0,3841111.0,3841111.0,3841111.0,11799.0,11799.0,11799.0,11849.0,11849.0,11849.0,22066.0,22066.0,22066.0,11847.0,11847.0,11847.0,11702.0,11702.0,11702.0,11707.0,11707.0,11707.0,11795.0,11795.0,11795.0,11792.0,11792.0,11792.0,11871.0,11871.0,11871.0,11847.0,11847.0,11847.0,11853.0,11853.0,11853.0],\"y\":[31.108565492630007,31.108565492630007,31.108565492630007,30.671958315968514,30.671958315968514,30.671958315968514,31.630883932113647,31.630883932113647,31.630883932113647,31.549027312994003,31.549027312994003,31.549027312994003,29.453434884548187,29.453434884548187,29.453434884548187,29.554549789428712,29.554549789428712,29.554549789428712,30.118245566487314,30.118245566487314,30.118245566487314,30.695043705701828,30.695043705701828,30.695043705701828,31.034528561234474,31.034528561234474,31.034528561234474,30.774798539578914,30.774798539578914,30.774798539578914,30.782916470170022,30.782916470170022,30.782916470170022,30.970249211490156,30.970249211490156,30.970249211490156,29.582218786776068,29.582218786776068,29.582218786776068,30.556681724488737,30.556681724488737,30.556681724488737,30.43223096251488,30.43223096251488,30.43223096251488,29.649502489566803,29.649502489566803,29.649502489566803,32.087436513900755,32.087436513900755,32.087436513900755,30.158691972196102,30.158691972196102,30.158691972196102,31.45159800618887,31.45159800618887,31.45159800618887,30.969500205516816,30.969500205516816,30.969500205516816,31.484385014772414,31.484385014772414,31.484385014772414,28.871518119573594,28.871518119573594,28.871518119573594,28.85798564583063,28.85798564583063,28.85798564583063,29.44869609326124,29.44869609326124,29.44869609326124,28.879464876055717,28.879464876055717,28.879464876055717,29.52491044998169,29.52491044998169,29.52491044998169,32.14780071258545,32.14780071258545,32.14780071258545,30.23484774708748,30.23484774708748,30.23484774708748,27.71123010277748,27.71123010277748,27.71123010277748,28.937725529372692,28.937725529372692,28.937725529372692,28.50431594312191,28.50431594312191,28.50431594312191,27.935120056271554,27.935120056271554,27.935120056271554,24.78777607113123,24.78777607113123,24.78777607113123,28.853612795770168,28.853612795770168,28.853612795770168,29.4213594147563,29.4213594147563,29.4213594147563,31.58038433074951,31.58038433074951,31.58038433074951,29.534280942380427,29.534280942380427,29.534280942380427,29.432452639937402,29.432452639937402,29.432452639937402,30.11526844024658,30.11526844024658,30.11526844024658,29.694188948571682,29.694188948571682,29.694188948571682,28.21519450068474,28.21519450068474,28.21519450068474,28.018008825182914,28.018008825182914,28.018008825182914,27.757596982717516,27.757596982717516,27.757596982717516,28.280059160292147,28.280059160292147,28.280059160292147],\"type\":\"scatter\"},{\"hoverinfo\":\"text\",\"marker\":{\"color\":\"rgb(181.91320349574085,225.59050253711484,20.01547602896494)\",\"size\":8},\"mode\":\"markers\",\"name\":\"gs_default_100000\",\"text\":[],\"x\":[],\"y\":[],\"type\":\"scatter\"},{\"hoverinfo\":\"text\",\"marker\":{\"color\":\"rgb(61.70538039957055,228.0442440600689,190.47765096315868)\",\"size\":8},\"mode\":\"markers\",\"name\":\"gs_default_30000\",\"text\":[],\"x\":[],\"y\":[],\"type\":\"scatter\"},{\"hoverinfo\":\"text\",\"marker\":{\"color\":\"rgb(148.2929734284347,206.37664788543486,201.25035669797225)\",\"size\":8},\"mode\":\"markers\",\"name\":\"random_2_0_1_5\",\"text\":[],\"x\":[],\"y\":[],\"type\":\"scatter\"},{\"hoverinfo\":\"text\",\"marker\":{\"color\":\"rgb(86.27262366475806,169.84559945007203,167.4786245596988)\",\"size\":8},\"mode\":\"markers\",\"name\":\"random_1_8_1_8\",\"text\":[],\"x\":[],\"y\":[],\"type\":\"scatter\"},{\"hoverinfo\":\"text\",\"marker\":{\"color\":\"rgb(193.05637021245886,234.48089971657703,36.770934578101716)\",\"size\":8},\"mode\":\"markers\",\"name\":\"random_1_8_1_5\",\"text\":[],\"x\":[],\"y\":[],\"type\":\"scatter\"},{\"hoverinfo\":\"text\",\"marker\":{\"color\":\"rgb(216.0764953854063,229.87504132198183,71.25599632412779)\",\"size\":8},\"mode\":\"markers\",\"name\":\"random_2_0_1_8\",\"text\":[],\"x\":[],\"y\":[],\"type\":\"scatter\"},{\"hoverinfo\":\"text\",\"marker\":{\"color\":\"rgb(25.29316573468295,11.45102468650212,163.98523173547983)\",\"size\":8},\"mode\":\"markers\",\"name\":\"random_1_8_2_0\",\"text\":[],\"x\":[],\"y\":[],\"type\":\"scatter\"},{\"hoverinfo\":\"text\",\"marker\":{\"color\":\"rgb(53.06859986537665,101.1984556706034,41.94632141476631)\",\"size\":8},\"mode\":\"markers\",\"name\":\"random_2_0_2_0\",\"text\":[],\"x\":[],\"y\":[],\"type\":\"scatter\"},{\"hoverinfo\":\"text\",\"marker\":{\"color\":\"rgb(102.30315785971975,234.46595962887773,207.91690121443673)\",\"size\":8},\"mode\":\"markers\",\"name\":\"random_1_5_1_8\",\"text\":[],\"x\":[],\"y\":[],\"type\":\"scatter\"},{\"hoverinfo\":\"text\",\"marker\":{\"color\":\"rgb(162.05100515294706,9.05534285485269,17.11313339329859)\",\"size\":8},\"mode\":\"markers\",\"name\":\"random_1_5_2_0\",\"text\":[],\"x\":[],\"y\":[],\"type\":\"scatter\"},{\"hoverinfo\":\"text\",\"marker\":{\"color\":\"rgb(99.56888924511395,174.99917966798515,116.2361018197902)\",\"size\":8},\"mode\":\"markers\",\"name\":\"random_1_5_1_5\",\"text\":[],\"x\":[],\"y\":[],\"type\":\"scatter\"},{\"hoverinfo\":\"text\",\"marker\":{\"color\":\"rgb(131.73599485043079,138.4448191860297,197.01642502112938)\",\"size\":8},\"mode\":\"markers\",\"name\":\"random_2_3_2_3\",\"text\":[],\"x\":[],\"y\":[],\"type\":\"scatter\"},{\"hoverinfo\":\"text\",\"marker\":{\"color\":\"rgb(41.95383007914352,7.121794912868869,0.8113389795411258)\",\"size\":8},\"mode\":\"markers\",\"name\":\"rand_100000_iterations_iterations_20240924_112104_908789_5542\",\"text\":[],\"x\":[],\"y\":[],\"type\":\"scatter\"},{\"hoverinfo\":\"text\",\"marker\":{\"color\":\"rgb(113.12955524936216,184.76438123279954,20.22173086541694)\",\"size\":8},\"mode\":\"markers\",\"name\":\"rand_100000_iterations_iterations_20240924_112104_979157_4173\",\"text\":[],\"x\":[],\"y\":[],\"type\":\"scatter\"},{\"hoverinfo\":\"text\",\"marker\":{\"color\":\"rgb(86.73430224366558,83.7433452384925,149.35623098993577)\",\"size\":8},\"mode\":\"markers\",\"name\":\"rand_100000_iterations_iterations_20240924_112104_844947_5059\",\"text\":[],\"x\":[],\"y\":[],\"type\":\"scatter\"},{\"hoverinfo\":\"text\",\"marker\":{\"color\":\"rgb(188.62660609938536,35.55417108399264,234.33642269956826)\",\"size\":8},\"mode\":\"markers\",\"name\":\"rand_100000_iterations_iterations_20240924_112104_250131_3653\",\"text\":[],\"x\":[],\"y\":[],\"type\":\"scatter\"},{\"hoverinfo\":\"text\",\"marker\":{\"color\":\"rgb(93.90791229255996,191.32738892194348,34.30722818013217)\",\"size\":8},\"mode\":\"markers\",\"name\":\"rand_100000_iterations_iterations_20240924_112104_989418_7072\",\"text\":[],\"x\":[],\"y\":[],\"type\":\"scatter\"},{\"hoverinfo\":\"text\",\"marker\":{\"color\":\"rgb(29.345223258992224,204.8280592083215,134.8964119372868)\",\"size\":8},\"mode\":\"markers\",\"name\":\"rand_100000_iterations_iterations_20240924_112104_239677_3378\",\"text\":[],\"x\":[],\"y\":[],\"type\":\"scatter\"},{\"hoverinfo\":\"text\",\"marker\":{\"color\":\"rgb(103.03867831978937,176.8293762787425,40.790241584508635)\",\"size\":8},\"mode\":\"markers\",\"name\":\"rand_100000_iterations_iterations_20240924_112104_254923_3283\",\"text\":[],\"x\":[],\"y\":[],\"type\":\"scatter\"},{\"hoverinfo\":\"text\",\"marker\":{\"color\":\"rgb(152.6184672090672,88.17989028002079,208.73070842756673)\",\"size\":8},\"mode\":\"markers\",\"name\":\"rand_100000_iterations_iterations_20240924_112104_493172_5045\",\"text\":[],\"x\":[],\"y\":[],\"type\":\"scatter\"},{\"hoverinfo\":\"text\",\"marker\":{\"color\":\"rgb(160.89120001231097,14.021558627786357,222.1710306551063)\",\"size\":8},\"mode\":\"markers\",\"name\":\"rand_100000_iterations_iterations_20240924_112104_126260_1915\",\"text\":[],\"x\":[],\"y\":[],\"type\":\"scatter\"},{\"hoverinfo\":\"text\",\"marker\":{\"color\":\"rgb(215.12826066456984,61.198151709891306,130.9616534847094)\",\"size\":8},\"mode\":\"markers\",\"name\":\"rand_100000_iterations_iterations_20240924_112104_991455_4474\",\"text\":[],\"x\":[],\"y\":[],\"type\":\"scatter\"},{\"hoverinfo\":\"text\",\"marker\":{\"color\":\"rgb(198.4651209170828,105.98285219580094,99.45389525561546)\",\"size\":8},\"mode\":\"markers\",\"name\":\"rand_100000_iterations_iterations_20240924_112104_882156_3234\",\"text\":[],\"x\":[],\"y\":[],\"type\":\"scatter\"},{\"hoverinfo\":\"text\",\"marker\":{\"color\":\"rgb(93.28596579530446,226.44364366666179,143.8106010972567)\",\"size\":8},\"mode\":\"markers\",\"name\":\"rand_100000_iterations_iterations_20240924_112104_564349_5451\",\"text\":[],\"x\":[],\"y\":[],\"type\":\"scatter\"},{\"hoverinfo\":\"text\",\"marker\":{\"color\":\"rgb(238.74604616968688,84.43676953412476,158.24812923758654)\",\"size\":8},\"mode\":\"markers\",\"name\":\"rand_100000_iterations_iterations_20240924_112104_688199_5927\",\"text\":[],\"x\":[],\"y\":[],\"type\":\"scatter\"},{\"hoverinfo\":\"text\",\"marker\":{\"color\":\"rgb(141.07059591347306,155.71656235958483,93.78065085245841)\",\"size\":8},\"mode\":\"markers\",\"name\":\"rand_100000_iterations_iterations_20240924_112104_794946_1741\",\"text\":[],\"x\":[],\"y\":[],\"type\":\"scatter\"},{\"hoverinfo\":\"text\",\"marker\":{\"color\":\"rgb(153.45475035972578,9.586796678876068,150.99292110477876)\",\"size\":8},\"mode\":\"markers\",\"name\":\"rand_100000_iterations_iterations_20240924_112104_805442_4223\",\"text\":[],\"x\":[],\"y\":[],\"type\":\"scatter\"},{\"hoverinfo\":\"text\",\"marker\":{\"color\":\"rgb(121.32603409511505,23.401538241435652,50.68797470364233)\",\"size\":8},\"mode\":\"markers\",\"name\":\"rand_100000_iterations_iterations_20240924_112104_274777_1880\",\"text\":[],\"x\":[],\"y\":[],\"type\":\"scatter\"},{\"hoverinfo\":\"text\",\"marker\":{\"color\":\"rgb(109.61102343570833,151.48325052103385,83.9599291579057)\",\"size\":8},\"mode\":\"markers\",\"name\":\"grad_thresholds_131751\",\"text\":[],\"x\":[],\"y\":[],\"type\":\"scatter\"},{\"hoverinfo\":\"text\",\"marker\":{\"color\":\"rgb(175.57456101465326,66.70531650838838,194.48057459312955)\",\"size\":8},\"mode\":\"markers\",\"name\":\"grad_thresholds_131752\",\"text\":[],\"x\":[],\"y\":[],\"type\":\"scatter\"},{\"hoverinfo\":\"text\",\"marker\":{\"color\":\"rgb(250.15676089068634,66.78082886254424,73.83897394951826)\",\"size\":8},\"mode\":\"markers\",\"name\":\"grad_thresholds_131753\",\"text\":[],\"x\":[],\"y\":[],\"type\":\"scatter\"},{\"hoverinfo\":\"text\",\"marker\":{\"color\":\"rgb(197.31125629780837,76.1838052998403,110.71087211877428)\",\"size\":8},\"mode\":\"markers\",\"name\":\"grad_thresholds_131754\",\"text\":[],\"x\":[],\"y\":[],\"type\":\"scatter\"},{\"hoverinfo\":\"text\",\"marker\":{\"color\":\"rgb(46.908872857654636,8.293604295092859,182.7180104819198)\",\"size\":8},\"mode\":\"markers\",\"name\":\"grad_thresholds_131755\",\"text\":[],\"x\":[],\"y\":[],\"type\":\"scatter\"},{\"hoverinfo\":\"text\",\"marker\":{\"color\":\"rgb(170.91256465128137,144.1694093735576,134.1255798703968)\",\"size\":8},\"mode\":\"markers\",\"name\":\"grad_thresholds_131756\",\"text\":[],\"x\":[],\"y\":[],\"type\":\"scatter\"},{\"hoverinfo\":\"text\",\"marker\":{\"color\":\"rgb(52.532971927428314,37.909179883460666,194.8856489827656)\",\"size\":8},\"mode\":\"markers\",\"name\":\"grad_thresholds_131757\",\"text\":[],\"x\":[],\"y\":[],\"type\":\"scatter\"},{\"hoverinfo\":\"text\",\"marker\":{\"color\":\"rgb(122.88901064234388,149.3000613500322,94.66307375013099)\",\"size\":8},\"mode\":\"markers\",\"name\":\"grad_thresholds_131758\",\"text\":[],\"x\":[],\"y\":[],\"type\":\"scatter\"},{\"hoverinfo\":\"text\",\"marker\":{\"color\":\"rgb(87.5413878348467,53.64181630876778,39.69759366082767)\",\"size\":8},\"mode\":\"markers\",\"name\":\"ppo_relative_diff_psnr_215932_345640_2187\",\"text\":[],\"x\":[],\"y\":[],\"type\":\"scatter\"},{\"hoverinfo\":\"text\",\"marker\":{\"color\":\"rgb(100.6925097149489,22.789485605320458,109.7756020016751)\",\"size\":8},\"mode\":\"markers\",\"name\":\"ppo_relative_diff_psnr_215932_361944_7518\",\"text\":[],\"x\":[],\"y\":[],\"type\":\"scatter\"},{\"hoverinfo\":\"text\",\"marker\":{\"color\":\"rgb(49.24256254731696,209.483601407972,50.62647514109308)\",\"size\":8},\"mode\":\"markers\",\"name\":\"ppo_relative_diff_psnr_215931_195041_4666\",\"text\":[],\"x\":[],\"y\":[],\"type\":\"scatter\"},{\"hoverinfo\":\"text\",\"marker\":{\"color\":\"rgb(160.03045789871948,66.17868163074336,233.32651011692246)\",\"size\":8},\"mode\":\"markers\",\"name\":\"ppo_relative_diff_psnr_215932_195936_8672\",\"text\":[],\"x\":[],\"y\":[],\"type\":\"scatter\"},{\"hoverinfo\":\"text\",\"marker\":{\"color\":\"rgb(50.93554979140943,164.4469327816173,163.28937196135314)\",\"size\":8},\"mode\":\"markers\",\"name\":\"ppo_relative_diff_psnr_215931_312464_6199\",\"text\":[],\"x\":[],\"y\":[],\"type\":\"scatter\"},{\"hoverinfo\":\"text\",\"marker\":{\"color\":\"rgb(182.58095003905882,151.71801114976518,101.51324729076177)\",\"size\":8},\"mode\":\"markers\",\"name\":\"ppo_relative_diff_psnr_215932_461370_6336\",\"text\":[],\"x\":[],\"y\":[],\"type\":\"scatter\"},{\"hoverinfo\":\"text\",\"marker\":{\"color\":\"rgb(17.553542496199327,56.2518340696395,148.82745509438922)\",\"size\":8},\"mode\":\"markers\",\"name\":\"ppo_relative_diff_psnr_215932_409465_5835\",\"text\":[],\"x\":[],\"y\":[],\"type\":\"scatter\"},{\"hoverinfo\":\"text\",\"marker\":{\"color\":\"rgb(162.17924448368748,194.4201731930795,59.000644756172214)\",\"size\":8},\"mode\":\"markers\",\"name\":\"ppo_relative_diff_psnr_215931_307088_3670\",\"text\":[],\"x\":[],\"y\":[],\"type\":\"scatter\"},{\"hoverinfo\":\"text\",\"marker\":{\"color\":\"rgb(23.20470027730503,218.50770238196992,53.63363673717266)\",\"size\":8},\"mode\":\"markers\",\"name\":\"ppo_relative_diff_psnr_215930_805206_1566\",\"text\":[],\"x\":[],\"y\":[],\"type\":\"scatter\"},{\"hoverinfo\":\"text\",\"marker\":{\"color\":\"rgb(8.499061529312048,37.38248566651409,251.07100492813248)\",\"size\":8},\"mode\":\"markers\",\"name\":\"ppo_relative_diff_psnr_215932_461836_9143\",\"text\":[],\"x\":[],\"y\":[],\"type\":\"scatter\"},{\"hoverinfo\":\"text\",\"marker\":{\"color\":\"rgb(217.46555734519157,99.28853969664725,16.33138571451344)\",\"size\":8},\"mode\":\"markers\",\"name\":\"ppo_relative_diff_psnr_215931_334543_9611\",\"text\":[],\"x\":[],\"y\":[],\"type\":\"scatter\"},{\"hoverinfo\":\"text\",\"marker\":{\"color\":\"rgb(147.10070478085848,171.5926731928999,3.651875347558893)\",\"size\":8},\"mode\":\"markers\",\"name\":\"ppo_relative_diff_psnr_215931_552723_3537\",\"text\":[],\"x\":[],\"y\":[],\"type\":\"scatter\"},{\"hoverinfo\":\"text\",\"marker\":{\"color\":\"rgb(23.094057762096472,161.32857356641944,206.14713692852598)\",\"size\":8},\"mode\":\"markers\",\"name\":\"ppo_relative_diff_psnr_215930_616060_4866\",\"text\":[],\"x\":[],\"y\":[],\"type\":\"scatter\"},{\"hoverinfo\":\"text\",\"marker\":{\"color\":\"rgb(67.20568907884692,129.89358220624896,164.5894982017516)\",\"size\":8},\"mode\":\"markers\",\"name\":\"num_start_gaussian_100000_1\",\"text\":[],\"x\":[],\"y\":[],\"type\":\"scatter\"},{\"hoverinfo\":\"text\",\"marker\":{\"color\":\"rgb(5.338004502080217,127.80320056817521,78.29305593575596)\",\"size\":8},\"mode\":\"markers\",\"name\":\"num_start_gaussian_100000_2\",\"text\":[],\"x\":[],\"y\":[],\"type\":\"scatter\"},{\"hoverinfo\":\"text\",\"marker\":{\"color\":\"rgb(233.56490128439722,204.41432779132762,206.1578168282071)\",\"size\":8},\"mode\":\"markers\",\"name\":\"num_start_gaussian_100000_3\",\"text\":[],\"x\":[],\"y\":[],\"type\":\"scatter\"},{\"hoverinfo\":\"text\",\"marker\":{\"color\":\"rgb(64.57688332566283,249.64521962229065,82.10067819070011)\",\"size\":8},\"mode\":\"markers\",\"name\":\"num_start_gaussian_100000_4\",\"text\":[],\"x\":[],\"y\":[],\"type\":\"scatter\"},{\"hoverinfo\":\"text\",\"marker\":{\"color\":\"rgb(146.74578856182413,26.667929389266952,84.42917168180566)\",\"size\":8},\"mode\":\"markers\",\"name\":\"num_start_gaussian_100000_5\",\"text\":[],\"x\":[],\"y\":[],\"type\":\"scatter\"},{\"hoverinfo\":\"text\",\"marker\":{\"color\":\"rgb(168.09693632286601,126.85607056848633,75.77594593861335)\",\"size\":8},\"mode\":\"markers\",\"name\":\"num_start_gaussian_100000_6\",\"text\":[],\"x\":[],\"y\":[],\"type\":\"scatter\"},{\"hoverinfo\":\"text\",\"marker\":{\"color\":\"rgb(145.81635780003566,52.95418495864576,126.343021088521)\",\"size\":8},\"mode\":\"markers\",\"name\":\"num_start_gaussian_100000_7\",\"text\":[],\"x\":[],\"y\":[],\"type\":\"scatter\"},{\"hoverinfo\":\"text\",\"marker\":{\"color\":\"rgb(248.3504349876338,134.66433510874037,183.90992700169005)\",\"size\":8},\"mode\":\"markers\",\"name\":\"num_start_gaussian_100000_8\",\"text\":[],\"x\":[],\"y\":[],\"type\":\"scatter\"},{\"hoverinfo\":\"text\",\"marker\":{\"color\":\"rgb(67.40719066923435,161.49626734310286,218.75299161464224)\",\"size\":8},\"mode\":\"markers\",\"name\":\"grad_thresholds_30000_0\",\"text\":[],\"x\":[],\"y\":[],\"type\":\"scatter\"},{\"hoverinfo\":\"text\",\"marker\":{\"color\":\"rgb(68.06854083789649,105.25341227962221,218.52280985644333)\",\"size\":8},\"mode\":\"markers\",\"name\":\"grad_thresholds_30000_1\",\"text\":[],\"x\":[],\"y\":[],\"type\":\"scatter\"},{\"hoverinfo\":\"text\",\"marker\":{\"color\":\"rgb(47.70676309839124,197.3507840679193,210.00566531834062)\",\"size\":8},\"mode\":\"markers\",\"name\":\"grad_thresholds_30000_2\",\"text\":[],\"x\":[],\"y\":[],\"type\":\"scatter\"},{\"hoverinfo\":\"text\",\"marker\":{\"color\":\"rgb(44.28870380370669,97.58907172813767,40.69712186374695)\",\"size\":8},\"mode\":\"markers\",\"name\":\"grad_thresholds_30000_3\",\"text\":[],\"x\":[],\"y\":[],\"type\":\"scatter\"},{\"hoverinfo\":\"text\",\"marker\":{\"color\":\"rgb(5.452173270503251,77.3212571029764,75.17812533589672)\",\"size\":8},\"mode\":\"markers\",\"name\":\"grad_thresholds_30000_4\",\"text\":[],\"x\":[],\"y\":[],\"type\":\"scatter\"},{\"hoverinfo\":\"text\",\"marker\":{\"color\":\"rgb(41.02432859688666,115.68492090094892,101.07477035460353)\",\"size\":8},\"mode\":\"markers\",\"name\":\"grad_thresholds_30000_5\",\"text\":[],\"x\":[],\"y\":[],\"type\":\"scatter\"},{\"hoverinfo\":\"text\",\"marker\":{\"color\":\"rgb(163.5178736942413,71.15264226093748,119.64184737289611)\",\"size\":8},\"mode\":\"markers\",\"name\":\"grad_thresholds_30000_6\",\"text\":[],\"x\":[],\"y\":[],\"type\":\"scatter\"},{\"hoverinfo\":\"text\",\"marker\":{\"color\":\"rgb(105.05182171815194,103.1881977984951,216.50769718729885)\",\"size\":8},\"mode\":\"markers\",\"name\":\"grad_thresholds_30000_7\",\"text\":[],\"x\":[],\"y\":[],\"type\":\"scatter\"},{\"hoverinfo\":\"text\",\"marker\":{\"color\":\"rgb(2.935954555629831,219.21802146731602,21.140816823274054)\",\"size\":8},\"mode\":\"markers\",\"name\":\"grad_thresholds_30000_8\",\"text\":[],\"x\":[],\"y\":[],\"type\":\"scatter\"},{\"hoverinfo\":\"text\",\"line\":{\"color\":\"red\",\"width\":2},\"marker\":{\"color\":\"red\",\"size\":8},\"mode\":\"markers+lines\",\"name\":\"Pareto Front\",\"text\":[\"RL_eval_20240918_153227_758458_8035\",\"RL_eval_20240918_153227_274001_7851\",\"RL_eval_20240918_153227_779709_9979\",\"RL_eval_20240918_153229_780354_4248\"],\"x\":[11702.0,11707.0,22066.0,123662.0],\"y\":[29.432452639937402,30.11526844024658,31.58038433074951,32.14780071258545],\"type\":\"scatter\"}],                        {\"template\":{\"data\":{\"histogram2dcontour\":[{\"type\":\"histogram2dcontour\",\"colorbar\":{\"outlinewidth\":0,\"ticks\":\"\"},\"colorscale\":[[0.0,\"#0d0887\"],[0.1111111111111111,\"#46039f\"],[0.2222222222222222,\"#7201a8\"],[0.3333333333333333,\"#9c179e\"],[0.4444444444444444,\"#bd3786\"],[0.5555555555555556,\"#d8576b\"],[0.6666666666666666,\"#ed7953\"],[0.7777777777777778,\"#fb9f3a\"],[0.8888888888888888,\"#fdca26\"],[1.0,\"#f0f921\"]]}],\"choropleth\":[{\"type\":\"choropleth\",\"colorbar\":{\"outlinewidth\":0,\"ticks\":\"\"}}],\"histogram2d\":[{\"type\":\"histogram2d\",\"colorbar\":{\"outlinewidth\":0,\"ticks\":\"\"},\"colorscale\":[[0.0,\"#0d0887\"],[0.1111111111111111,\"#46039f\"],[0.2222222222222222,\"#7201a8\"],[0.3333333333333333,\"#9c179e\"],[0.4444444444444444,\"#bd3786\"],[0.5555555555555556,\"#d8576b\"],[0.6666666666666666,\"#ed7953\"],[0.7777777777777778,\"#fb9f3a\"],[0.8888888888888888,\"#fdca26\"],[1.0,\"#f0f921\"]]}],\"heatmap\":[{\"type\":\"heatmap\",\"colorbar\":{\"outlinewidth\":0,\"ticks\":\"\"},\"colorscale\":[[0.0,\"#0d0887\"],[0.1111111111111111,\"#46039f\"],[0.2222222222222222,\"#7201a8\"],[0.3333333333333333,\"#9c179e\"],[0.4444444444444444,\"#bd3786\"],[0.5555555555555556,\"#d8576b\"],[0.6666666666666666,\"#ed7953\"],[0.7777777777777778,\"#fb9f3a\"],[0.8888888888888888,\"#fdca26\"],[1.0,\"#f0f921\"]]}],\"heatmapgl\":[{\"type\":\"heatmapgl\",\"colorbar\":{\"outlinewidth\":0,\"ticks\":\"\"},\"colorscale\":[[0.0,\"#0d0887\"],[0.1111111111111111,\"#46039f\"],[0.2222222222222222,\"#7201a8\"],[0.3333333333333333,\"#9c179e\"],[0.4444444444444444,\"#bd3786\"],[0.5555555555555556,\"#d8576b\"],[0.6666666666666666,\"#ed7953\"],[0.7777777777777778,\"#fb9f3a\"],[0.8888888888888888,\"#fdca26\"],[1.0,\"#f0f921\"]]}],\"contourcarpet\":[{\"type\":\"contourcarpet\",\"colorbar\":{\"outlinewidth\":0,\"ticks\":\"\"}}],\"contour\":[{\"type\":\"contour\",\"colorbar\":{\"outlinewidth\":0,\"ticks\":\"\"},\"colorscale\":[[0.0,\"#0d0887\"],[0.1111111111111111,\"#46039f\"],[0.2222222222222222,\"#7201a8\"],[0.3333333333333333,\"#9c179e\"],[0.4444444444444444,\"#bd3786\"],[0.5555555555555556,\"#d8576b\"],[0.6666666666666666,\"#ed7953\"],[0.7777777777777778,\"#fb9f3a\"],[0.8888888888888888,\"#fdca26\"],[1.0,\"#f0f921\"]]}],\"surface\":[{\"type\":\"surface\",\"colorbar\":{\"outlinewidth\":0,\"ticks\":\"\"},\"colorscale\":[[0.0,\"#0d0887\"],[0.1111111111111111,\"#46039f\"],[0.2222222222222222,\"#7201a8\"],[0.3333333333333333,\"#9c179e\"],[0.4444444444444444,\"#bd3786\"],[0.5555555555555556,\"#d8576b\"],[0.6666666666666666,\"#ed7953\"],[0.7777777777777778,\"#fb9f3a\"],[0.8888888888888888,\"#fdca26\"],[1.0,\"#f0f921\"]]}],\"mesh3d\":[{\"type\":\"mesh3d\",\"colorbar\":{\"outlinewidth\":0,\"ticks\":\"\"}}],\"scatter\":[{\"fillpattern\":{\"fillmode\":\"overlay\",\"size\":10,\"solidity\":0.2},\"type\":\"scatter\"}],\"parcoords\":[{\"type\":\"parcoords\",\"line\":{\"colorbar\":{\"outlinewidth\":0,\"ticks\":\"\"}}}],\"scatterpolargl\":[{\"type\":\"scatterpolargl\",\"marker\":{\"colorbar\":{\"outlinewidth\":0,\"ticks\":\"\"}}}],\"bar\":[{\"error_x\":{\"color\":\"#2a3f5f\"},\"error_y\":{\"color\":\"#2a3f5f\"},\"marker\":{\"line\":{\"color\":\"#E5ECF6\",\"width\":0.5},\"pattern\":{\"fillmode\":\"overlay\",\"size\":10,\"solidity\":0.2}},\"type\":\"bar\"}],\"scattergeo\":[{\"type\":\"scattergeo\",\"marker\":{\"colorbar\":{\"outlinewidth\":0,\"ticks\":\"\"}}}],\"scatterpolar\":[{\"type\":\"scatterpolar\",\"marker\":{\"colorbar\":{\"outlinewidth\":0,\"ticks\":\"\"}}}],\"histogram\":[{\"marker\":{\"pattern\":{\"fillmode\":\"overlay\",\"size\":10,\"solidity\":0.2}},\"type\":\"histogram\"}],\"scattergl\":[{\"type\":\"scattergl\",\"marker\":{\"colorbar\":{\"outlinewidth\":0,\"ticks\":\"\"}}}],\"scatter3d\":[{\"type\":\"scatter3d\",\"line\":{\"colorbar\":{\"outlinewidth\":0,\"ticks\":\"\"}},\"marker\":{\"colorbar\":{\"outlinewidth\":0,\"ticks\":\"\"}}}],\"scattermapbox\":[{\"type\":\"scattermapbox\",\"marker\":{\"colorbar\":{\"outlinewidth\":0,\"ticks\":\"\"}}}],\"scatterternary\":[{\"type\":\"scatterternary\",\"marker\":{\"colorbar\":{\"outlinewidth\":0,\"ticks\":\"\"}}}],\"scattercarpet\":[{\"type\":\"scattercarpet\",\"marker\":{\"colorbar\":{\"outlinewidth\":0,\"ticks\":\"\"}}}],\"carpet\":[{\"aaxis\":{\"endlinecolor\":\"#2a3f5f\",\"gridcolor\":\"white\",\"linecolor\":\"white\",\"minorgridcolor\":\"white\",\"startlinecolor\":\"#2a3f5f\"},\"baxis\":{\"endlinecolor\":\"#2a3f5f\",\"gridcolor\":\"white\",\"linecolor\":\"white\",\"minorgridcolor\":\"white\",\"startlinecolor\":\"#2a3f5f\"},\"type\":\"carpet\"}],\"table\":[{\"cells\":{\"fill\":{\"color\":\"#EBF0F8\"},\"line\":{\"color\":\"white\"}},\"header\":{\"fill\":{\"color\":\"#C8D4E3\"},\"line\":{\"color\":\"white\"}},\"type\":\"table\"}],\"barpolar\":[{\"marker\":{\"line\":{\"color\":\"#E5ECF6\",\"width\":0.5},\"pattern\":{\"fillmode\":\"overlay\",\"size\":10,\"solidity\":0.2}},\"type\":\"barpolar\"}],\"pie\":[{\"automargin\":true,\"type\":\"pie\"}]},\"layout\":{\"autotypenumbers\":\"strict\",\"colorway\":[\"#636efa\",\"#EF553B\",\"#00cc96\",\"#ab63fa\",\"#FFA15A\",\"#19d3f3\",\"#FF6692\",\"#B6E880\",\"#FF97FF\",\"#FECB52\"],\"font\":{\"color\":\"#2a3f5f\"},\"hovermode\":\"closest\",\"hoverlabel\":{\"align\":\"left\"},\"paper_bgcolor\":\"white\",\"plot_bgcolor\":\"#E5ECF6\",\"polar\":{\"bgcolor\":\"#E5ECF6\",\"angularaxis\":{\"gridcolor\":\"white\",\"linecolor\":\"white\",\"ticks\":\"\"},\"radialaxis\":{\"gridcolor\":\"white\",\"linecolor\":\"white\",\"ticks\":\"\"}},\"ternary\":{\"bgcolor\":\"#E5ECF6\",\"aaxis\":{\"gridcolor\":\"white\",\"linecolor\":\"white\",\"ticks\":\"\"},\"baxis\":{\"gridcolor\":\"white\",\"linecolor\":\"white\",\"ticks\":\"\"},\"caxis\":{\"gridcolor\":\"white\",\"linecolor\":\"white\",\"ticks\":\"\"}},\"coloraxis\":{\"colorbar\":{\"outlinewidth\":0,\"ticks\":\"\"}},\"colorscale\":{\"sequential\":[[0.0,\"#0d0887\"],[0.1111111111111111,\"#46039f\"],[0.2222222222222222,\"#7201a8\"],[0.3333333333333333,\"#9c179e\"],[0.4444444444444444,\"#bd3786\"],[0.5555555555555556,\"#d8576b\"],[0.6666666666666666,\"#ed7953\"],[0.7777777777777778,\"#fb9f3a\"],[0.8888888888888888,\"#fdca26\"],[1.0,\"#f0f921\"]],\"sequentialminus\":[[0.0,\"#0d0887\"],[0.1111111111111111,\"#46039f\"],[0.2222222222222222,\"#7201a8\"],[0.3333333333333333,\"#9c179e\"],[0.4444444444444444,\"#bd3786\"],[0.5555555555555556,\"#d8576b\"],[0.6666666666666666,\"#ed7953\"],[0.7777777777777778,\"#fb9f3a\"],[0.8888888888888888,\"#fdca26\"],[1.0,\"#f0f921\"]],\"diverging\":[[0,\"#8e0152\"],[0.1,\"#c51b7d\"],[0.2,\"#de77ae\"],[0.3,\"#f1b6da\"],[0.4,\"#fde0ef\"],[0.5,\"#f7f7f7\"],[0.6,\"#e6f5d0\"],[0.7,\"#b8e186\"],[0.8,\"#7fbc41\"],[0.9,\"#4d9221\"],[1,\"#276419\"]]},\"xaxis\":{\"gridcolor\":\"white\",\"linecolor\":\"white\",\"ticks\":\"\",\"title\":{\"standoff\":15},\"zerolinecolor\":\"white\",\"automargin\":true,\"zerolinewidth\":2},\"yaxis\":{\"gridcolor\":\"white\",\"linecolor\":\"white\",\"ticks\":\"\",\"title\":{\"standoff\":15},\"zerolinecolor\":\"white\",\"automargin\":true,\"zerolinewidth\":2},\"scene\":{\"xaxis\":{\"backgroundcolor\":\"#E5ECF6\",\"gridcolor\":\"white\",\"linecolor\":\"white\",\"showbackground\":true,\"ticks\":\"\",\"zerolinecolor\":\"white\",\"gridwidth\":2},\"yaxis\":{\"backgroundcolor\":\"#E5ECF6\",\"gridcolor\":\"white\",\"linecolor\":\"white\",\"showbackground\":true,\"ticks\":\"\",\"zerolinecolor\":\"white\",\"gridwidth\":2},\"zaxis\":{\"backgroundcolor\":\"#E5ECF6\",\"gridcolor\":\"white\",\"linecolor\":\"white\",\"showbackground\":true,\"ticks\":\"\",\"zerolinecolor\":\"white\",\"gridwidth\":2}},\"shapedefaults\":{\"line\":{\"color\":\"#2a3f5f\"}},\"annotationdefaults\":{\"arrowcolor\":\"#2a3f5f\",\"arrowhead\":0,\"arrowwidth\":1},\"geo\":{\"bgcolor\":\"white\",\"landcolor\":\"#E5ECF6\",\"subunitcolor\":\"white\",\"showland\":true,\"showlakes\":true,\"lakecolor\":\"white\"},\"title\":{\"x\":0.05},\"mapbox\":{\"style\":\"light\"}}},\"xaxis\":{\"title\":{\"text\":\"Number of Gaussians (n_gaussians)\"},\"type\":\"log\"},\"legend\":{\"orientation\":\"h\",\"yanchor\":\"bottom\",\"y\":1.02,\"xanchor\":\"right\",\"x\":1},\"title\":{\"text\":\"Pareto Front: Minimize Gaussians, Maximize PSNR\"},\"yaxis\":{\"title\":{\"text\":\"PSNR\"}},\"hovermode\":\"closest\"},                        {\"responsive\": true}                    ).then(function(){\n",
       "                            \n",
       "var gd = document.getElementById('8608c4e1-7405-4dcc-a833-db39acbdcb49');\n",
       "var x = new MutationObserver(function (mutations, observer) {{\n",
       "        var display = window.getComputedStyle(gd).display;\n",
       "        if (!display || display === 'none') {{\n",
       "            console.log([gd, 'removed!']);\n",
       "            Plotly.purge(gd);\n",
       "            observer.disconnect();\n",
       "        }}\n",
       "}});\n",
       "\n",
       "// Listen for the removal of the full notebook cells\n",
       "var notebookContainer = gd.closest('#notebook-container');\n",
       "if (notebookContainer) {{\n",
       "    x.observe(notebookContainer, {childList: true});\n",
       "}}\n",
       "\n",
       "// Listen for the clearing of the current output cell\n",
       "var outputEl = gd.closest('.output');\n",
       "if (outputEl) {{\n",
       "    x.observe(outputEl, {childList: true});\n",
       "}}\n",
       "\n",
       "                        })                };                });            </script>        </div>"
      ]
     },
     "metadata": {},
     "output_type": "display_data"
    }
   ],
   "source": [
    "import plotly.graph_objects as go\n",
    "from paretoset import paretoset\n",
    "import numpy as np\n",
    "\n",
    "# Step 1: Compute the Pareto front using the paretoset package\n",
    "mask = paretoset(df_results[['psnr', 'n_gaussians']], sense=['max', 'min'])\n",
    "\n",
    "# Extract the Pareto front from the results\n",
    "pareto_df = df_results[mask]\n",
    "\n",
    "# Step 2: Sort the Pareto front by n_gaussians (or psnr if you prefer)\n",
    "pareto_df = pareto_df.sort_values(by='n_gaussians')\n",
    "\n",
    "# Step 3: Plot all points\n",
    "fig = go.Figure()\n",
    "\n",
    "# Add all points to the scatter plot\n",
    "fig.add_trace(go.Scatter(\n",
    "    x=df_results['n_gaussians'],\n",
    "    y=df_results['psnr'],\n",
    "    mode='markers',\n",
    "    marker=dict(size=6, color='blue', opacity=0.5),\n",
    "    text=df_results['run_id'],  # Run ID will show when hovering\n",
    "    hoverinfo='text',\n",
    "    name='All Points'\n",
    "))\n",
    "\n",
    "# Highlight specific runs\n",
    "colors = np.random.rand(len(highlight_runs), 3)  # Generate random colors for each highlighted run\n",
    "\n",
    "for i, run_id in enumerate(highlight_runs):\n",
    "    highlight_data = df_results[df_results['run_id'].str.contains(run_id)]\n",
    "    fig.add_trace(go.Scatter(\n",
    "        x=highlight_data['n_gaussians'],\n",
    "        y=highlight_data['psnr'],\n",
    "        mode='markers',\n",
    "        marker=dict(size=8, color=f'rgb({colors[i][0]*255},{colors[i][1]*255},{colors[i][2]*255})'),\n",
    "        text=highlight_data['run_id'],  # Run ID will show when hovering\n",
    "        hoverinfo='text',\n",
    "        name=f'{run_id}'\n",
    "    ))\n",
    "\n",
    "# Add Pareto front points\n",
    "fig.add_trace(go.Scatter(\n",
    "    x=pareto_df['n_gaussians'],\n",
    "    y=pareto_df['psnr'],\n",
    "    mode='markers+lines',\n",
    "    marker=dict(size=8, color='red'),\n",
    "    line=dict(color='red', width=2),\n",
    "    text=pareto_df['run_id'],  # Run ID will show when hovering\n",
    "    hoverinfo='text',\n",
    "    name='Pareto Front'\n",
    "))\n",
    "\n",
    "# Step 4: Update layout\n",
    "fig.update_layout(\n",
    "    title='Pareto Front: Minimize Gaussians, Maximize PSNR',\n",
    "    xaxis=dict(title='Number of Gaussians (n_gaussians)', type='log'),\n",
    "    yaxis=dict(title='PSNR'),\n",
    "    legend=dict(orientation='h', yanchor='bottom', y=1.02, xanchor='right', x=1),\n",
    "    hovermode='closest')\n",
    "\n",
    "# Step 5: Show the interactive plot\n",
    "fig.show()\n"
   ]
  }
 ],
 "metadata": {
  "kernelspec": {
   "display_name": "Python 3",
   "language": "python",
   "name": "python3"
  },
  "language_info": {
   "codemirror_mode": {
    "name": "ipython",
    "version": 3
   },
   "file_extension": ".py",
   "mimetype": "text/x-python",
   "name": "python",
   "nbconvert_exporter": "python",
   "pygments_lexer": "ipython3",
   "version": "3.10.14"
  }
 },
 "nbformat": 4,
 "nbformat_minor": 2
}
